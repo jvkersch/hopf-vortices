{
 "metadata": {
  "name": "Leapfrogging Vortex Rings"
 }, 
 "nbformat": 2, 
 "worksheets": [
  {
   "cells": [
    {
     "cell_type": "code", 
     "collapsed": false, 
     "input": [
      "from hopf.util.matlab_io import load_variables", 
      "import numpy.linalg as LA", 
      "", 
      "from simulations.plots.figs import set_figure_defaults, small_legend", 
      "# from simulations.plots.bw_plots import plot, semilogx, semilogy, loglog", 
      "", 
      "set_figure_defaults('medium')"
     ], 
     "language": "python", 
     "outputs": [], 
     "prompt_number": 1
    }, 
    {
     "cell_type": "code", 
     "collapsed": true, 
     "input": [
      "from rowley_midpoint import *"
     ], 
     "language": "python", 
     "outputs": [], 
     "prompt_number": 2
    }, 
    {
     "cell_type": "code", 
     "collapsed": true, 
     "input": [
      "gamma, z0 = leapfrog_initial_conditions()"
     ], 
     "language": "python", 
     "outputs": [], 
     "prompt_number": 3
    }, 
    {
     "cell_type": "code", 
     "collapsed": false, 
     "input": [
      "zs, times = rowley_integrate(gamma, z0, 200.)"
     ], 
     "language": "python", 
     "outputs": [
      {
       "output_type": "stream", 
       "stream": "stderr", 
       "text": [
        ". . "
       ]
      }, 
      {
       "output_type": "stream", 
       "stream": "stderr", 
       "text": [
        ". . "
       ]
      }, 
      {
       "output_type": "stream", 
       "stream": "stderr", 
       "text": [
        ". . "
       ]
      }, 
      {
       "output_type": "stream", 
       "stream": "stderr", 
       "text": [
        ". . "
       ]
      }, 
      {
       "output_type": "stream", 
       "stream": "stderr", 
       "text": [
        ". . "
       ]
      }, 
      {
       "output_type": "stream", 
       "stream": "stderr", 
       "text": [
        ". . "
       ]
      }, 
      {
       "output_type": "stream", 
       "stream": "stderr", 
       "text": [
        ". . "
       ]
      }, 
      {
       "output_type": "stream", 
       "stream": "stderr", 
       "text": [
        ". . "
       ]
      }, 
      {
       "output_type": "stream", 
       "stream": "stderr", 
       "text": [
        ". . "
       ]
      }, 
      {
       "output_type": "stream", 
       "stream": "stderr", 
       "text": [
        ". . "
       ]
      }, 
      {
       "output_type": "stream", 
       "stream": "stderr", 
       "text": [
        ". . "
       ]
      }, 
      {
       "output_type": "stream", 
       "stream": "stderr", 
       "text": [
        ". . "
       ]
      }, 
      {
       "output_type": "stream", 
       "stream": "stderr", 
       "text": [
        ". . "
       ]
      }, 
      {
       "output_type": "stream", 
       "stream": "stderr", 
       "text": [
        ". . "
       ]
      }, 
      {
       "output_type": "stream", 
       "stream": "stderr", 
       "text": [
        ". . "
       ]
      }, 
      {
       "output_type": "stream", 
       "stream": "stderr", 
       "text": [
        ". . "
       ]
      }, 
      {
       "output_type": "stream", 
       "stream": "stderr", 
       "text": [
        ". . "
       ]
      }, 
      {
       "output_type": "stream", 
       "stream": "stderr", 
       "text": [
        ". . "
       ]
      }, 
      {
       "output_type": "stream", 
       "stream": "stderr", 
       "text": [
        ". . "
       ]
      }, 
      {
       "output_type": "stream", 
       "stream": "stderr", 
       "text": [
        ". . "
       ]
      }, 
      {
       "output_type": "stream", 
       "stream": "stderr", 
       "text": [
        ". . "
       ]
      }, 
      {
       "output_type": "stream", 
       "stream": "stderr", 
       "text": [
        ". . "
       ]
      }, 
      {
       "output_type": "stream", 
       "stream": "stderr", 
       "text": [
        ". . "
       ]
      }, 
      {
       "output_type": "stream", 
       "stream": "stderr", 
       "text": [
        ". . "
       ]
      }, 
      {
       "output_type": "stream", 
       "stream": "stderr", 
       "text": [
        ". . "
       ]
      }, 
      {
       "output_type": "stream", 
       "stream": "stderr", 
       "text": [
        ". . "
       ]
      }, 
      {
       "output_type": "stream", 
       "stream": "stderr", 
       "text": [
        ". . "
       ]
      }, 
      {
       "output_type": "stream", 
       "stream": "stderr", 
       "text": [
        ". . "
       ]
      }, 
      {
       "output_type": "stream", 
       "stream": "stderr", 
       "text": [
        ". . "
       ]
      }, 
      {
       "output_type": "stream", 
       "stream": "stderr", 
       "text": [
        ". . "
       ]
      }, 
      {
       "output_type": "stream", 
       "stream": "stderr", 
       "text": [
        ". . "
       ]
      }, 
      {
       "output_type": "stream", 
       "stream": "stderr", 
       "text": [
        ". . "
       ]
      }, 
      {
       "output_type": "stream", 
       "stream": "stderr", 
       "text": [
        ". . "
       ]
      }, 
      {
       "output_type": "stream", 
       "stream": "stderr", 
       "text": [
        ". . "
       ]
      }, 
      {
       "output_type": "stream", 
       "stream": "stderr", 
       "text": [
        ". . "
       ]
      }, 
      {
       "output_type": "stream", 
       "stream": "stderr", 
       "text": [
        ". . "
       ]
      }, 
      {
       "output_type": "stream", 
       "stream": "stderr", 
       "text": [
        ". . "
       ]
      }, 
      {
       "output_type": "stream", 
       "stream": "stderr", 
       "text": [
        ". . "
       ]
      }, 
      {
       "output_type": "stream", 
       "stream": "stderr", 
       "text": [
        ". . "
       ]
      }, 
      {
       "output_type": "stream", 
       "stream": "stderr", 
       "text": [
        ". . "
       ]
      }, 
      {
       "output_type": "stream", 
       "stream": "stderr", 
       "text": [
        ". . "
       ]
      }, 
      {
       "output_type": "stream", 
       "stream": "stderr", 
       "text": [
        ". . "
       ]
      }, 
      {
       "output_type": "stream", 
       "stream": "stderr", 
       "text": [
        ". . "
       ]
      }, 
      {
       "output_type": "stream", 
       "stream": "stderr", 
       "text": [
        ". . "
       ]
      }, 
      {
       "output_type": "stream", 
       "stream": "stderr", 
       "text": [
        ". . "
       ]
      }, 
      {
       "output_type": "stream", 
       "stream": "stderr", 
       "text": [
        ". . "
       ]
      }, 
      {
       "output_type": "stream", 
       "stream": "stderr", 
       "text": [
        ". . "
       ]
      }, 
      {
       "output_type": "stream", 
       "stream": "stderr", 
       "text": [
        ". . "
       ]
      }, 
      {
       "output_type": "stream", 
       "stream": "stderr", 
       "text": [
        ". . "
       ]
      }, 
      {
       "output_type": "stream", 
       "stream": "stderr", 
       "text": [
        ". . "
       ]
      }, 
      {
       "output_type": "stream", 
       "stream": "stderr", 
       "text": [
        "", 
        ""
       ]
      }
     ], 
     "prompt_number": 19
    }, 
    {
     "cell_type": "code", 
     "collapsed": false, 
     "input": [
      "zs.shape"
     ], 
     "language": "python", 
     "outputs": [
      {
       "output_type": "pyout", 
       "prompt_number": 20, 
       "text": [
        "(100, 4)"
       ]
      }
     ], 
     "prompt_number": 20
    }, 
    {
     "cell_type": "code", 
     "collapsed": false, 
     "input": [
      "times[-1]"
     ], 
     "language": "python", 
     "outputs": [
      {
       "output_type": "pyout", 
       "prompt_number": 21, 
       "text": [
        "200.09999999999292"
       ]
      }
     ], 
     "prompt_number": 21
    }, 
    {
     "cell_type": "code", 
     "collapsed": false, 
     "input": [
      "fig = figure()", 
      "ax = fig.add_subplot(111)", 
      "", 
      "for n in xrange(0, 4):", 
      "    plot(zs[:,n].real, zs[:,n].imag)", 
      "", 
      "ax.autoscale(axis='x', tight=True)", 
      "ax.set_xticklabels([])", 
      "ax.set_yticklabels([])", 
      "", 
      "savefig('leapfrogging-vortices.pdf')", 
      "", 
      "show()"
     ], 
     "language": "python", 
     "outputs": [
      {
       "output_type": "display_data", 
       "png": "[encoded data removed]"
      }
     ], 
     "prompt_number": 26
    }, 
    {
     "cell_type": "code", 
     "collapsed": true, 
     "input": [], 
     "language": "python", 
     "outputs": []
    }
   ]
  }
 ]
}