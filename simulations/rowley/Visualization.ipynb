{
 "metadata": {
  "name": "Visualization"
 }, 
 "nbformat": 2, 
 "worksheets": [
  {
   "cells": [
    {
     "cell_type": "code", 
     "collapsed": true, 
     "input": [
      "import matplotlib", 
      "matplotlib.rcParams['savefig.dpi'] = 75       # figure dots per inch", 
      "matplotlib.rcParams['figure.figsize'] = 6, 4.5  # figure size in inches", 
      "matplotlib.rcParams['font.size'] = 15  # size of default fonts", 
      "matplotlib.rcParams['figure.subplot.left'] = .15", 
      "#matplotlib.rcParams['figure.subplot.right'] = .25", 
      "matplotlib.rcParams['figure.subplot.bottom'] = .15"
     ], 
     "language": "python", 
     "outputs": [], 
     "prompt_number": 1
    }, 
    {
     "cell_type": "code", 
     "collapsed": true, 
     "input": [
      "from matplotlib.ticker import MaxNLocator, FormatStrFormatter, ScalarFormatter", 
      "sfmt = ScalarFormatter()", 
      "sfmt.set_scientific(True)", 
      "sfmt.set_powerlimits((-2, 4))"
     ], 
     "language": "python", 
     "outputs": [], 
     "prompt_number": 2
    }, 
    {
     "cell_type": "code", 
     "collapsed": true, 
     "input": [
      "import numpy as np", 
      "from rowley_midpoint import hamiltonian, rowley_integrate, leapfrog_initial_conditions, random_initial_conditions"
     ], 
     "language": "python", 
     "outputs": [], 
     "prompt_number": 3
    }, 
    {
     "cell_type": "code", 
     "collapsed": true, 
     "input": [
      "gamma, z0 = random_initial_conditions(n=4)", 
      "#gamma, z0 = leapfrog_initial_conditions()"
     ], 
     "language": "python", 
     "outputs": [], 
     "prompt_number": 4
    }, 
    {
     "cell_type": "code", 
     "collapsed": false, 
     "input": [
      "gamma -= np.average(gamma)", 
      "#gamma *= 10", 
      "gamma "
     ], 
     "language": "python", 
     "outputs": [
      {
       "output_type": "pyout", 
       "prompt_number": 5, 
       "text": [
        "array([-0.07672476,  0.07747236,  0.17634481, -0.17709241])"
       ]
      }
     ], 
     "prompt_number": 5
    }, 
    {
     "cell_type": "code", 
     "collapsed": true, 
     "input": [
      "gamma = np.array([.1, .3, -.2, -.4])"
     ], 
     "language": "python", 
     "outputs": [], 
     "prompt_number": 6
    }, 
    {
     "cell_type": "code", 
     "collapsed": true, 
     "input": [
      "z0 = np.array([0., .5j, 1., .7 + .6j])"
     ], 
     "language": "python", 
     "outputs": [], 
     "prompt_number": 7
    }, 
    {
     "cell_type": "code", 
     "collapsed": true, 
     "input": [
      "z0 = [exp(theta*1j) for theta in linspace(0, 2*pi, 9)]", 
      "z0 = np.array(z0[0:-1] + [0.]); z0"
     ], 
     "language": "python", 
     "outputs": [], 
     "prompt_number": 76
    }, 
    {
     "cell_type": "code", 
     "collapsed": true, 
     "input": [
      "gamma = np.zeros(9)", 
      "gamma[0:8] = .1", 
      "gamma[-1] = -sum(gamma)", 
      "gamma"
     ], 
     "language": "python", 
     "outputs": [], 
     "prompt_number": 78
    }, 
    {
     "cell_type": "code", 
     "collapsed": false, 
     "input": [
      "zs1, times1 = rowley_integrate(gamma, z0, h=.1, sigma=1, tmax=1000, numpoints=500)"
     ], 
     "language": "python", 
     "outputs": [
      {
       "output_type": "stream", 
       "stream": "stderr", 
       "text": [
        ". . "
       ]
      }, 
      {
       "output_type": "stream", 
       "stream": "stderr", 
       "text": [
        ". . "
       ]
      }, 
      {
       "output_type": "stream", 
       "stream": "stderr", 
       "text": [
        ". . "
       ]
      }, 
      {
       "output_type": "stream", 
       "stream": "stderr", 
       "text": [
        ". . "
       ]
      }, 
      {
       "output_type": "stream", 
       "stream": "stderr", 
       "text": [
        ". . "
       ]
      }, 
      {
       "output_type": "stream", 
       "stream": "stderr", 
       "text": [
        ". . "
       ]
      }, 
      {
       "output_type": "stream", 
       "stream": "stderr", 
       "text": [
        ". . "
       ]
      }, 
      {
       "output_type": "stream", 
       "stream": "stderr", 
       "text": [
        ". . "
       ]
      }, 
      {
       "output_type": "stream", 
       "stream": "stderr", 
       "text": [
        ". . "
       ]
      }, 
      {
       "output_type": "stream", 
       "stream": "stderr", 
       "text": [
        ". . "
       ]
      }, 
      {
       "output_type": "stream", 
       "stream": "stderr", 
       "text": [
        ". . "
       ]
      }, 
      {
       "output_type": "stream", 
       "stream": "stderr", 
       "text": [
        ". . "
       ]
      }, 
      {
       "output_type": "stream", 
       "stream": "stderr", 
       "text": [
        ". . "
       ]
      }, 
      {
       "output_type": "stream", 
       "stream": "stderr", 
       "text": [
        ". . "
       ]
      }, 
      {
       "output_type": "stream", 
       "stream": "stderr", 
       "text": [
        ". . "
       ]
      }, 
      {
       "output_type": "stream", 
       "stream": "stderr", 
       "text": [
        ". . "
       ]
      }, 
      {
       "output_type": "stream", 
       "stream": "stderr", 
       "text": [
        ". . "
       ]
      }, 
      {
       "output_type": "stream", 
       "stream": "stderr", 
       "text": [
        ". . "
       ]
      }, 
      {
       "output_type": "stream", 
       "stream": "stderr", 
       "text": [
        ". . "
       ]
      }, 
      {
       "output_type": "stream", 
       "stream": "stderr", 
       "text": [
        ". . "
       ]
      }, 
      {
       "output_type": "stream", 
       "stream": "stderr", 
       "text": [
        ". . "
       ]
      }, 
      {
       "output_type": "stream", 
       "stream": "stderr", 
       "text": [
        ". . "
       ]
      }, 
      {
       "output_type": "stream", 
       "stream": "stderr", 
       "text": [
        ". . "
       ]
      }, 
      {
       "output_type": "stream", 
       "stream": "stderr", 
       "text": [
        ". . "
       ]
      }, 
      {
       "output_type": "stream", 
       "stream": "stderr", 
       "text": [
        ". . "
       ]
      }, 
      {
       "output_type": "stream", 
       "stream": "stderr", 
       "text": [
        ". . "
       ]
      }, 
      {
       "output_type": "stream", 
       "stream": "stderr", 
       "text": [
        ". . "
       ]
      }, 
      {
       "output_type": "stream", 
       "stream": "stderr", 
       "text": [
        ". . "
       ]
      }, 
      {
       "output_type": "stream", 
       "stream": "stderr", 
       "text": [
        ". . "
       ]
      }, 
      {
       "output_type": "stream", 
       "stream": "stderr", 
       "text": [
        ". . "
       ]
      }, 
      {
       "output_type": "stream", 
       "stream": "stderr", 
       "text": [
        ". . "
       ]
      }, 
      {
       "output_type": "stream", 
       "stream": "stderr", 
       "text": [
        ". . "
       ]
      }, 
      {
       "output_type": "stream", 
       "stream": "stderr", 
       "text": [
        ". . "
       ]
      }, 
      {
       "output_type": "stream", 
       "stream": "stderr", 
       "text": [
        ". . "
       ]
      }, 
      {
       "output_type": "stream", 
       "stream": "stderr", 
       "text": [
        ". . "
       ]
      }, 
      {
       "output_type": "stream", 
       "stream": "stderr", 
       "text": [
        ". . "
       ]
      }, 
      {
       "output_type": "stream", 
       "stream": "stderr", 
       "text": [
        ". . "
       ]
      }, 
      {
       "output_type": "stream", 
       "stream": "stderr", 
       "text": [
        ". . "
       ]
      }, 
      {
       "output_type": "stream", 
       "stream": "stderr", 
       "text": [
        ". . "
       ]
      }, 
      {
       "output_type": "stream", 
       "stream": "stderr", 
       "text": [
        ". . "
       ]
      }, 
      {
       "output_type": "stream", 
       "stream": "stderr", 
       "text": [
        ". . "
       ]
      }, 
      {
       "output_type": "stream", 
       "stream": "stderr", 
       "text": [
        ". . "
       ]
      }, 
      {
       "output_type": "stream", 
       "stream": "stderr", 
       "text": [
        ". . "
       ]
      }, 
      {
       "output_type": "stream", 
       "stream": "stderr", 
       "text": [
        ". . "
       ]
      }, 
      {
       "output_type": "stream", 
       "stream": "stderr", 
       "text": [
        ". . "
       ]
      }, 
      {
       "output_type": "stream", 
       "stream": "stderr", 
       "text": [
        ". . "
       ]
      }, 
      {
       "output_type": "stream", 
       "stream": "stderr", 
       "text": [
        ". . "
       ]
      }, 
      {
       "output_type": "stream", 
       "stream": "stderr", 
       "text": [
        ". . "
       ]
      }, 
      {
       "output_type": "stream", 
       "stream": "stderr", 
       "text": [
        ". . "
       ]
      }, 
      {
       "output_type": "stream", 
       "stream": "stderr", 
       "text": [
        ". . "
       ]
      }, 
      {
       "output_type": "stream", 
       "stream": "stderr", 
       "text": [
        ". . "
       ]
      }, 
      {
       "output_type": "stream", 
       "stream": "stderr", 
       "text": [
        ". . "
       ]
      }, 
      {
       "output_type": "stream", 
       "stream": "stderr", 
       "text": [
        ". . "
       ]
      }, 
      {
       "output_type": "stream", 
       "stream": "stderr", 
       "text": [
        ". . "
       ]
      }, 
      {
       "output_type": "stream", 
       "stream": "stderr", 
       "text": [
        ". . "
       ]
      }, 
      {
       "output_type": "stream", 
       "stream": "stderr", 
       "text": [
        ". . "
       ]
      }, 
      {
       "output_type": "stream", 
       "stream": "stderr", 
       "text": [
        ". . "
       ]
      }, 
      {
       "output_type": "stream", 
       "stream": "stderr", 
       "text": [
        ". . "
       ]
      }, 
      {
       "output_type": "stream", 
       "stream": "stderr", 
       "text": [
        ". . "
       ]
      }, 
      {
       "output_type": "stream", 
       "stream": "stderr", 
       "text": [
        ". . "
       ]
      }, 
      {
       "output_type": "stream", 
       "stream": "stderr", 
       "text": [
        ". . "
       ]
      }, 
      {
       "output_type": "stream", 
       "stream": "stderr", 
       "text": [
        ". . "
       ]
      }, 
      {
       "output_type": "stream", 
       "stream": "stderr", 
       "text": [
        ". . "
       ]
      }, 
      {
       "output_type": "stream", 
       "stream": "stderr", 
       "text": [
        ". . "
       ]
      }, 
      {
       "output_type": "stream", 
       "stream": "stderr", 
       "text": [
        ". "
       ]
      }, 
      {
       "output_type": "stream", 
       "stream": "stderr", 
       "text": [
        ". . "
       ]
      }, 
      {
       "output_type": "stream", 
       "stream": "stderr", 
       "text": [
        ". . "
       ]
      }, 
      {
       "output_type": "stream", 
       "stream": "stderr", 
       "text": [
        ". . "
       ]
      }, 
      {
       "output_type": "stream", 
       "stream": "stderr", 
       "text": [
        ". . "
       ]
      }, 
      {
       "output_type": "stream", 
       "stream": "stderr", 
       "text": [
        ". "
       ]
      }, 
      {
       "output_type": "stream", 
       "stream": "stderr", 
       "text": [
        ". . "
       ]
      }, 
      {
       "output_type": "stream", 
       "stream": "stderr", 
       "text": [
        ". . "
       ]
      }, 
      {
       "output_type": "stream", 
       "stream": "stderr", 
       "text": [
        ". . "
       ]
      }, 
      {
       "output_type": "stream", 
       "stream": "stderr", 
       "text": [
        ". . "
       ]
      }, 
      {
       "output_type": "stream", 
       "stream": "stderr", 
       "text": [
        ". . "
       ]
      }, 
      {
       "output_type": "stream", 
       "stream": "stderr", 
       "text": [
        ". . "
       ]
      }, 
      {
       "output_type": "stream", 
       "stream": "stderr", 
       "text": [
        ". . "
       ]
      }, 
      {
       "output_type": "stream", 
       "stream": "stderr", 
       "text": [
        ". . "
       ]
      }, 
      {
       "output_type": "stream", 
       "stream": "stderr", 
       "text": [
        ". . "
       ]
      }, 
      {
       "output_type": "stream", 
       "stream": "stderr", 
       "text": [
        ". . "
       ]
      }, 
      {
       "output_type": "stream", 
       "stream": "stderr", 
       "text": [
        ". . "
       ]
      }, 
      {
       "output_type": "stream", 
       "stream": "stderr", 
       "text": [
        ". . "
       ]
      }, 
      {
       "output_type": "stream", 
       "stream": "stderr", 
       "text": [
        ". . "
       ]
      }, 
      {
       "output_type": "stream", 
       "stream": "stderr", 
       "text": [
        ". . "
       ]
      }, 
      {
       "output_type": "stream", 
       "stream": "stderr", 
       "text": [
        ". . "
       ]
      }, 
      {
       "output_type": "stream", 
       "stream": "stderr", 
       "text": [
        ". . "
       ]
      }, 
      {
       "output_type": "stream", 
       "stream": "stderr", 
       "text": [
        ". . "
       ]
      }, 
      {
       "output_type": "stream", 
       "stream": "stderr", 
       "text": [
        ". . "
       ]
      }, 
      {
       "output_type": "stream", 
       "stream": "stderr", 
       "text": [
        ". . "
       ]
      }, 
      {
       "output_type": "stream", 
       "stream": "stderr", 
       "text": [
        ". . "
       ]
      }, 
      {
       "output_type": "stream", 
       "stream": "stderr", 
       "text": [
        ". . "
       ]
      }, 
      {
       "output_type": "stream", 
       "stream": "stderr", 
       "text": [
        ". . "
       ]
      }, 
      {
       "output_type": "stream", 
       "stream": "stderr", 
       "text": [
        ". . "
       ]
      }, 
      {
       "output_type": "stream", 
       "stream": "stderr", 
       "text": [
        ". . "
       ]
      }, 
      {
       "output_type": "stream", 
       "stream": "stderr", 
       "text": [
        ". . "
       ]
      }, 
      {
       "output_type": "stream", 
       "stream": "stderr", 
       "text": [
        ". . "
       ]
      }, 
      {
       "output_type": "stream", 
       "stream": "stderr", 
       "text": [
        ". . "
       ]
      }, 
      {
       "output_type": "stream", 
       "stream": "stderr", 
       "text": [
        ". . "
       ]
      }, 
      {
       "output_type": "stream", 
       "stream": "stderr", 
       "text": [
        ". . "
       ]
      }, 
      {
       "output_type": "stream", 
       "stream": "stderr", 
       "text": [
        ". . "
       ]
      }, 
      {
       "output_type": "stream", 
       "stream": "stderr", 
       "text": [
        ". . "
       ]
      }, 
      {
       "output_type": "stream", 
       "stream": "stderr", 
       "text": [
        ". . "
       ]
      }, 
      {
       "output_type": "stream", 
       "stream": "stderr", 
       "text": [
        ". . "
       ]
      }, 
      {
       "output_type": "stream", 
       "stream": "stderr", 
       "text": [
        ". . "
       ]
      }, 
      {
       "output_type": "stream", 
       "stream": "stderr", 
       "text": [
        ". . "
       ]
      }, 
      {
       "output_type": "stream", 
       "stream": "stderr", 
       "text": [
        ". . "
       ]
      }, 
      {
       "output_type": "stream", 
       "stream": "stderr", 
       "text": [
        ". . "
       ]
      }, 
      {
       "output_type": "stream", 
       "stream": "stderr", 
       "text": [
        ". . "
       ]
      }, 
      {
       "output_type": "stream", 
       "stream": "stderr", 
       "text": [
        ". . "
       ]
      }, 
      {
       "output_type": "stream", 
       "stream": "stderr", 
       "text": [
        ". . "
       ]
      }, 
      {
       "output_type": "stream", 
       "stream": "stderr", 
       "text": [
        ". . "
       ]
      }, 
      {
       "output_type": "stream", 
       "stream": "stderr", 
       "text": [
        ". . "
       ]
      }, 
      {
       "output_type": "stream", 
       "stream": "stderr", 
       "text": [
        ". . "
       ]
      }, 
      {
       "output_type": "stream", 
       "stream": "stderr", 
       "text": [
        ". . "
       ]
      }, 
      {
       "output_type": "stream", 
       "stream": "stderr", 
       "text": [
        ". . "
       ]
      }, 
      {
       "output_type": "stream", 
       "stream": "stderr", 
       "text": [
        ". . "
       ]
      }, 
      {
       "output_type": "stream", 
       "stream": "stderr", 
       "text": [
        ". . "
       ]
      }, 
      {
       "output_type": "stream", 
       "stream": "stderr", 
       "text": [
        ". . "
       ]
      }, 
      {
       "output_type": "stream", 
       "stream": "stderr", 
       "text": [
        ". . "
       ]
      }, 
      {
       "output_type": "stream", 
       "stream": "stderr", 
       "text": [
        ". . "
       ]
      }, 
      {
       "output_type": "stream", 
       "stream": "stderr", 
       "text": [
        ". . "
       ]
      }, 
      {
       "output_type": "stream", 
       "stream": "stderr", 
       "text": [
        ". . "
       ]
      }, 
      {
       "output_type": "stream", 
       "stream": "stderr", 
       "text": [
        ". . "
       ]
      }, 
      {
       "output_type": "stream", 
       "stream": "stderr", 
       "text": [
        ". . "
       ]
      }, 
      {
       "output_type": "stream", 
       "stream": "stderr", 
       "text": [
        ". . "
       ]
      }, 
      {
       "output_type": "stream", 
       "stream": "stderr", 
       "text": [
        ". . "
       ]
      }, 
      {
       "output_type": "stream", 
       "stream": "stderr", 
       "text": [
        ". . "
       ]
      }, 
      {
       "output_type": "stream", 
       "stream": "stderr", 
       "text": [
        ". . "
       ]
      }, 
      {
       "output_type": "stream", 
       "stream": "stderr", 
       "text": [
        ". . "
       ]
      }, 
      {
       "output_type": "stream", 
       "stream": "stderr", 
       "text": [
        ". . "
       ]
      }, 
      {
       "output_type": "stream", 
       "stream": "stderr", 
       "text": [
        ". . "
       ]
      }, 
      {
       "output_type": "stream", 
       "stream": "stderr", 
       "text": [
        ". . "
       ]
      }, 
      {
       "output_type": "stream", 
       "stream": "stderr", 
       "text": [
        ". . "
       ]
      }, 
      {
       "output_type": "stream", 
       "stream": "stderr", 
       "text": [
        ". . "
       ]
      }, 
      {
       "output_type": "stream", 
       "stream": "stderr", 
       "text": [
        ". . "
       ]
      }, 
      {
       "output_type": "stream", 
       "stream": "stderr", 
       "text": [
        ". . "
       ]
      }, 
      {
       "output_type": "stream", 
       "stream": "stderr", 
       "text": [
        ". . "
       ]
      }, 
      {
       "output_type": "stream", 
       "stream": "stderr", 
       "text": [
        ". . "
       ]
      }, 
      {
       "output_type": "stream", 
       "stream": "stderr", 
       "text": [
        ". . "
       ]
      }, 
      {
       "output_type": "stream", 
       "stream": "stderr", 
       "text": [
        ". . "
       ]
      }, 
      {
       "output_type": "stream", 
       "stream": "stderr", 
       "text": [
        ". . "
       ]
      }, 
      {
       "output_type": "stream", 
       "stream": "stderr", 
       "text": [
        ". . "
       ]
      }, 
      {
       "output_type": "stream", 
       "stream": "stderr", 
       "text": [
        ". . "
       ]
      }, 
      {
       "output_type": "stream", 
       "stream": "stderr", 
       "text": [
        ". . "
       ]
      }, 
      {
       "output_type": "stream", 
       "stream": "stderr", 
       "text": [
        ". . "
       ]
      }, 
      {
       "output_type": "stream", 
       "stream": "stderr", 
       "text": [
        ". . "
       ]
      }, 
      {
       "output_type": "stream", 
       "stream": "stderr", 
       "text": [
        ". . "
       ]
      }, 
      {
       "output_type": "stream", 
       "stream": "stderr", 
       "text": [
        ". . "
       ]
      }, 
      {
       "output_type": "stream", 
       "stream": "stderr", 
       "text": [
        ". . "
       ]
      }, 
      {
       "output_type": "stream", 
       "stream": "stderr", 
       "text": [
        ". . "
       ]
      }, 
      {
       "output_type": "stream", 
       "stream": "stderr", 
       "text": [
        ". . "
       ]
      }, 
      {
       "output_type": "stream", 
       "stream": "stderr", 
       "text": [
        ". . "
       ]
      }, 
      {
       "output_type": "stream", 
       "stream": "stderr", 
       "text": [
        ". . "
       ]
      }, 
      {
       "output_type": "stream", 
       "stream": "stderr", 
       "text": [
        ". . "
       ]
      }, 
      {
       "output_type": "stream", 
       "stream": "stderr", 
       "text": [
        ". . "
       ]
      }, 
      {
       "output_type": "stream", 
       "stream": "stderr", 
       "text": [
        ". . "
       ]
      }, 
      {
       "output_type": "stream", 
       "stream": "stderr", 
       "text": [
        ". . "
       ]
      }, 
      {
       "output_type": "stream", 
       "stream": "stderr", 
       "text": [
        ". . "
       ]
      }, 
      {
       "output_type": "stream", 
       "stream": "stderr", 
       "text": [
        ". . "
       ]
      }, 
      {
       "output_type": "stream", 
       "stream": "stderr", 
       "text": [
        ". . "
       ]
      }, 
      {
       "output_type": "stream", 
       "stream": "stderr", 
       "text": [
        ". . "
       ]
      }, 
      {
       "output_type": "stream", 
       "stream": "stderr", 
       "text": [
        ". . "
       ]
      }, 
      {
       "output_type": "stream", 
       "stream": "stderr", 
       "text": [
        ". . "
       ]
      }, 
      {
       "output_type": "stream", 
       "stream": "stderr", 
       "text": [
        ". . "
       ]
      }, 
      {
       "output_type": "stream", 
       "stream": "stderr", 
       "text": [
        ". . "
       ]
      }, 
      {
       "output_type": "stream", 
       "stream": "stderr", 
       "text": [
        ". . "
       ]
      }, 
      {
       "output_type": "stream", 
       "stream": "stderr", 
       "text": [
        ". . "
       ]
      }, 
      {
       "output_type": "stream", 
       "stream": "stderr", 
       "text": [
        ". . "
       ]
      }, 
      {
       "output_type": "stream", 
       "stream": "stderr", 
       "text": [
        ". . "
       ]
      }, 
      {
       "output_type": "stream", 
       "stream": "stderr", 
       "text": [
        ". . "
       ]
      }, 
      {
       "output_type": "stream", 
       "stream": "stderr", 
       "text": [
        ". . "
       ]
      }, 
      {
       "output_type": "stream", 
       "stream": "stderr", 
       "text": [
        ". . "
       ]
      }, 
      {
       "output_type": "stream", 
       "stream": "stderr", 
       "text": [
        ". . "
       ]
      }, 
      {
       "output_type": "stream", 
       "stream": "stderr", 
       "text": [
        ". . "
       ]
      }, 
      {
       "output_type": "stream", 
       "stream": "stderr", 
       "text": [
        ". . "
       ]
      }, 
      {
       "output_type": "stream", 
       "stream": "stderr", 
       "text": [
        ". . "
       ]
      }, 
      {
       "output_type": "stream", 
       "stream": "stderr", 
       "text": [
        ". . "
       ]
      }, 
      {
       "output_type": "stream", 
       "stream": "stderr", 
       "text": [
        ". . "
       ]
      }, 
      {
       "output_type": "stream", 
       "stream": "stderr", 
       "text": [
        ". . "
       ]
      }, 
      {
       "output_type": "stream", 
       "stream": "stderr", 
       "text": [
        ". . "
       ]
      }, 
      {
       "output_type": "stream", 
       "stream": "stderr", 
       "text": [
        ". . "
       ]
      }, 
      {
       "output_type": "stream", 
       "stream": "stderr", 
       "text": [
        ". . "
       ]
      }, 
      {
       "output_type": "stream", 
       "stream": "stderr", 
       "text": [
        ". . "
       ]
      }, 
      {
       "output_type": "stream", 
       "stream": "stderr", 
       "text": [
        ". . "
       ]
      }, 
      {
       "output_type": "stream", 
       "stream": "stderr", 
       "text": [
        ". . "
       ]
      }, 
      {
       "output_type": "stream", 
       "stream": "stderr", 
       "text": [
        ". . "
       ]
      }, 
      {
       "output_type": "stream", 
       "stream": "stderr", 
       "text": [
        ". . "
       ]
      }, 
      {
       "output_type": "stream", 
       "stream": "stderr", 
       "text": [
        ". . "
       ]
      }, 
      {
       "output_type": "stream", 
       "stream": "stderr", 
       "text": [
        ". . "
       ]
      }, 
      {
       "output_type": "stream", 
       "stream": "stderr", 
       "text": [
        ". . "
       ]
      }, 
      {
       "output_type": "stream", 
       "stream": "stderr", 
       "text": [
        ". . "
       ]
      }, 
      {
       "output_type": "stream", 
       "stream": "stderr", 
       "text": [
        ". . "
       ]
      }, 
      {
       "output_type": "stream", 
       "stream": "stderr", 
       "text": [
        ". . "
       ]
      }, 
      {
       "output_type": "stream", 
       "stream": "stderr", 
       "text": [
        ". . "
       ]
      }, 
      {
       "output_type": "stream", 
       "stream": "stderr", 
       "text": [
        ". . "
       ]
      }, 
      {
       "output_type": "stream", 
       "stream": "stderr", 
       "text": [
        ". . "
       ]
      }, 
      {
       "output_type": "stream", 
       "stream": "stderr", 
       "text": [
        ". . "
       ]
      }, 
      {
       "output_type": "stream", 
       "stream": "stderr", 
       "text": [
        ". "
       ]
      }, 
      {
       "output_type": "stream", 
       "stream": "stderr", 
       "text": [
        ". . "
       ]
      }, 
      {
       "output_type": "stream", 
       "stream": "stderr", 
       "text": [
        ". . "
       ]
      }, 
      {
       "output_type": "stream", 
       "stream": "stderr", 
       "text": [
        ". . "
       ]
      }, 
      {
       "output_type": "stream", 
       "stream": "stderr", 
       "text": [
        ". . "
       ]
      }, 
      {
       "output_type": "stream", 
       "stream": "stderr", 
       "text": [
        ". . "
       ]
      }, 
      {
       "output_type": "stream", 
       "stream": "stderr", 
       "text": [
        ". . "
       ]
      }, 
      {
       "output_type": "stream", 
       "stream": "stderr", 
       "text": [
        ". . "
       ]
      }, 
      {
       "output_type": "stream", 
       "stream": "stderr", 
       "text": [
        ". . "
       ]
      }, 
      {
       "output_type": "stream", 
       "stream": "stderr", 
       "text": [
        ". . "
       ]
      }, 
      {
       "output_type": "stream", 
       "stream": "stderr", 
       "text": [
        ". . "
       ]
      }, 
      {
       "output_type": "stream", 
       "stream": "stderr", 
       "text": [
        ". . "
       ]
      }, 
      {
       "output_type": "stream", 
       "stream": "stderr", 
       "text": [
        ". . "
       ]
      }, 
      {
       "output_type": "stream", 
       "stream": "stderr", 
       "text": [
        ". . "
       ]
      }, 
      {
       "output_type": "stream", 
       "stream": "stderr", 
       "text": [
        ". . "
       ]
      }, 
      {
       "output_type": "stream", 
       "stream": "stderr", 
       "text": [
        ". . "
       ]
      }, 
      {
       "output_type": "stream", 
       "stream": "stderr", 
       "text": [
        ". . "
       ]
      }, 
      {
       "output_type": "stream", 
       "stream": "stderr", 
       "text": [
        ". . "
       ]
      }, 
      {
       "output_type": "stream", 
       "stream": "stderr", 
       "text": [
        ". . "
       ]
      }, 
      {
       "output_type": "stream", 
       "stream": "stderr", 
       "text": [
        ". . "
       ]
      }, 
      {
       "output_type": "stream", 
       "stream": "stderr", 
       "text": [
        ". . "
       ]
      }, 
      {
       "output_type": "stream", 
       "stream": "stderr", 
       "text": [
        ". . "
       ]
      }, 
      {
       "output_type": "stream", 
       "stream": "stderr", 
       "text": [
        ". . "
       ]
      }, 
      {
       "output_type": "stream", 
       "stream": "stderr", 
       "text": [
        ". . "
       ]
      }, 
      {
       "output_type": "stream", 
       "stream": "stderr", 
       "text": [
        ". . "
       ]
      }, 
      {
       "output_type": "stream", 
       "stream": "stderr", 
       "text": [
        ". . "
       ]
      }, 
      {
       "output_type": "stream", 
       "stream": "stderr", 
       "text": [
        ". . "
       ]
      }, 
      {
       "output_type": "stream", 
       "stream": "stderr", 
       "text": [
        ". . "
       ]
      }, 
      {
       "output_type": "stream", 
       "stream": "stderr", 
       "text": [
        ". . "
       ]
      }, 
      {
       "output_type": "stream", 
       "stream": "stderr", 
       "text": [
        ". . "
       ]
      }, 
      {
       "output_type": "stream", 
       "stream": "stderr", 
       "text": [
        ". . "
       ]
      }, 
      {
       "output_type": "stream", 
       "stream": "stderr", 
       "text": [
        ". . "
       ]
      }, 
      {
       "output_type": "stream", 
       "stream": "stderr", 
       "text": [
        ". . "
       ]
      }, 
      {
       "output_type": "stream", 
       "stream": "stderr", 
       "text": [
        ". . "
       ]
      }, 
      {
       "output_type": "stream", 
       "stream": "stderr", 
       "text": [
        ". . "
       ]
      }, 
      {
       "output_type": "stream", 
       "stream": "stderr", 
       "text": [
        ". . "
       ]
      }, 
      {
       "output_type": "stream", 
       "stream": "stderr", 
       "text": [
        ". . "
       ]
      }, 
      {
       "output_type": "stream", 
       "stream": "stderr", 
       "text": [
        ". . "
       ]
      }, 
      {
       "output_type": "stream", 
       "stream": "stderr", 
       "text": [
        ". . "
       ]
      }, 
      {
       "output_type": "stream", 
       "stream": "stderr", 
       "text": [
        ". . "
       ]
      }, 
      {
       "output_type": "stream", 
       "stream": "stderr", 
       "text": [
        ". . "
       ]
      }, 
      {
       "output_type": "stream", 
       "stream": "stderr", 
       "text": [
        ". . "
       ]
      }, 
      {
       "output_type": "stream", 
       "stream": "stderr", 
       "text": [
        ". . "
       ]
      }, 
      {
       "output_type": "stream", 
       "stream": "stderr", 
       "text": [
        ". . "
       ]
      }, 
      {
       "output_type": "stream", 
       "stream": "stderr", 
       "text": [
        ". . "
       ]
      }, 
      {
       "output_type": "stream", 
       "stream": "stderr", 
       "text": [
        ". . "
       ]
      }, 
      {
       "output_type": "stream", 
       "stream": "stderr", 
       "text": [
        ". . "
       ]
      }, 
      {
       "output_type": "stream", 
       "stream": "stderr", 
       "text": [
        ". . "
       ]
      }, 
      {
       "output_type": "stream", 
       "stream": "stderr", 
       "text": [
        ". . "
       ]
      }, 
      {
       "output_type": "stream", 
       "stream": "stderr", 
       "text": [
        ". . "
       ]
      }, 
      {
       "output_type": "stream", 
       "stream": "stderr", 
       "text": [
        ". . "
       ]
      }, 
      {
       "output_type": "stream", 
       "stream": "stderr", 
       "text": [
        ". . "
       ]
      }, 
      {
       "output_type": "stream", 
       "stream": "stderr", 
       "text": [
        ". . "
       ]
      }, 
      {
       "output_type": "stream", 
       "stream": "stderr", 
       "text": [
        ". . "
       ]
      }, 
      {
       "output_type": "stream", 
       "stream": "stderr", 
       "text": [
        ". "
       ]
      }
     ], 
     "prompt_number": 8
    }, 
    {
     "cell_type": "code", 
     "collapsed": true, 
     "input": [
      "E1 = np.array([hamiltonian(gamma, z) for z in zs1])", 
      "E1 = E1 - E1[0]"
     ], 
     "language": "python", 
     "outputs": [], 
     "prompt_number": 9
    }, 
    {
     "cell_type": "code", 
     "collapsed": false, 
     "input": [
      "zs2, times2 = rowley_integrate(gamma, z0, h=.1, sigma=.9, tmax=1000, numpoints=500)"
     ], 
     "language": "python", 
     "outputs": [
      {
       "output_type": "stream", 
       "stream": "stderr", 
       "text": [
        ". . "
       ]
      }, 
      {
       "output_type": "stream", 
       "stream": "stderr", 
       "text": [
        ". . "
       ]
      }, 
      {
       "output_type": "stream", 
       "stream": "stderr", 
       "text": [
        ". . "
       ]
      }, 
      {
       "output_type": "stream", 
       "stream": "stderr", 
       "text": [
        ". . "
       ]
      }, 
      {
       "output_type": "stream", 
       "stream": "stderr", 
       "text": [
        ". . "
       ]
      }, 
      {
       "output_type": "stream", 
       "stream": "stderr", 
       "text": [
        ". . "
       ]
      }, 
      {
       "output_type": "stream", 
       "stream": "stderr", 
       "text": [
        ". . "
       ]
      }, 
      {
       "output_type": "stream", 
       "stream": "stderr", 
       "text": [
        ". . "
       ]
      }, 
      {
       "output_type": "stream", 
       "stream": "stderr", 
       "text": [
        ". . "
       ]
      }, 
      {
       "output_type": "stream", 
       "stream": "stderr", 
       "text": [
        ". . "
       ]
      }, 
      {
       "output_type": "stream", 
       "stream": "stderr", 
       "text": [
        ". . "
       ]
      }, 
      {
       "output_type": "stream", 
       "stream": "stderr", 
       "text": [
        ". . "
       ]
      }, 
      {
       "output_type": "stream", 
       "stream": "stderr", 
       "text": [
        ". . "
       ]
      }, 
      {
       "output_type": "stream", 
       "stream": "stderr", 
       "text": [
        ". . "
       ]
      }, 
      {
       "output_type": "stream", 
       "stream": "stderr", 
       "text": [
        ". . "
       ]
      }, 
      {
       "output_type": "stream", 
       "stream": "stderr", 
       "text": [
        ". . "
       ]
      }, 
      {
       "output_type": "stream", 
       "stream": "stderr", 
       "text": [
        ". . "
       ]
      }, 
      {
       "output_type": "stream", 
       "stream": "stderr", 
       "text": [
        ". . "
       ]
      }, 
      {
       "output_type": "stream", 
       "stream": "stderr", 
       "text": [
        ". . "
       ]
      }, 
      {
       "output_type": "stream", 
       "stream": "stderr", 
       "text": [
        ". . "
       ]
      }, 
      {
       "output_type": "stream", 
       "stream": "stderr", 
       "text": [
        ". . "
       ]
      }, 
      {
       "output_type": "stream", 
       "stream": "stderr", 
       "text": [
        ". . "
       ]
      }, 
      {
       "output_type": "stream", 
       "stream": "stderr", 
       "text": [
        ". . "
       ]
      }, 
      {
       "output_type": "stream", 
       "stream": "stderr", 
       "text": [
        ". . "
       ]
      }, 
      {
       "output_type": "stream", 
       "stream": "stderr", 
       "text": [
        ". . "
       ]
      }, 
      {
       "output_type": "stream", 
       "stream": "stderr", 
       "text": [
        ". . "
       ]
      }, 
      {
       "output_type": "stream", 
       "stream": "stderr", 
       "text": [
        ". "
       ]
      }, 
      {
       "output_type": "stream", 
       "stream": "stderr", 
       "text": [
        ". "
       ]
      }, 
      {
       "output_type": "stream", 
       "stream": "stderr", 
       "text": [
        ". . "
       ]
      }, 
      {
       "output_type": "stream", 
       "stream": "stderr", 
       "text": [
        ". . "
       ]
      }, 
      {
       "output_type": "stream", 
       "stream": "stderr", 
       "text": [
        ". . "
       ]
      }, 
      {
       "output_type": "stream", 
       "stream": "stderr", 
       "text": [
        ". . "
       ]
      }, 
      {
       "output_type": "stream", 
       "stream": "stderr", 
       "text": [
        ". . "
       ]
      }, 
      {
       "output_type": "stream", 
       "stream": "stderr", 
       "text": [
        ". "
       ]
      }, 
      {
       "output_type": "stream", 
       "stream": "stderr", 
       "text": [
        ". . "
       ]
      }, 
      {
       "output_type": "stream", 
       "stream": "stderr", 
       "text": [
        ". . "
       ]
      }, 
      {
       "output_type": "stream", 
       "stream": "stderr", 
       "text": [
        ". . "
       ]
      }, 
      {
       "output_type": "stream", 
       "stream": "stderr", 
       "text": [
        ". . "
       ]
      }, 
      {
       "output_type": "stream", 
       "stream": "stderr", 
       "text": [
        ". . "
       ]
      }, 
      {
       "output_type": "stream", 
       "stream": "stderr", 
       "text": [
        ". . "
       ]
      }, 
      {
       "output_type": "stream", 
       "stream": "stderr", 
       "text": [
        ". . "
       ]
      }, 
      {
       "output_type": "stream", 
       "stream": "stderr", 
       "text": [
        ". . "
       ]
      }, 
      {
       "output_type": "stream", 
       "stream": "stderr", 
       "text": [
        ". . "
       ]
      }, 
      {
       "output_type": "stream", 
       "stream": "stderr", 
       "text": [
        ". . "
       ]
      }, 
      {
       "output_type": "stream", 
       "stream": "stderr", 
       "text": [
        ". . "
       ]
      }, 
      {
       "output_type": "stream", 
       "stream": "stderr", 
       "text": [
        ". . "
       ]
      }, 
      {
       "output_type": "stream", 
       "stream": "stderr", 
       "text": [
        ". . "
       ]
      }, 
      {
       "output_type": "stream", 
       "stream": "stderr", 
       "text": [
        ". . "
       ]
      }, 
      {
       "output_type": "stream", 
       "stream": "stderr", 
       "text": [
        ". . "
       ]
      }, 
      {
       "output_type": "stream", 
       "stream": "stderr", 
       "text": [
        ". . "
       ]
      }, 
      {
       "output_type": "stream", 
       "stream": "stderr", 
       "text": [
        ". . "
       ]
      }, 
      {
       "output_type": "stream", 
       "stream": "stderr", 
       "text": [
        ". . "
       ]
      }, 
      {
       "output_type": "stream", 
       "stream": "stderr", 
       "text": [
        ". . "
       ]
      }, 
      {
       "output_type": "stream", 
       "stream": "stderr", 
       "text": [
        ". . "
       ]
      }, 
      {
       "output_type": "stream", 
       "stream": "stderr", 
       "text": [
        ". . "
       ]
      }, 
      {
       "output_type": "stream", 
       "stream": "stderr", 
       "text": [
        ". . "
       ]
      }, 
      {
       "output_type": "stream", 
       "stream": "stderr", 
       "text": [
        ". . "
       ]
      }, 
      {
       "output_type": "stream", 
       "stream": "stderr", 
       "text": [
        ". . "
       ]
      }, 
      {
       "output_type": "stream", 
       "stream": "stderr", 
       "text": [
        ". . "
       ]
      }, 
      {
       "output_type": "stream", 
       "stream": "stderr", 
       "text": [
        ". . "
       ]
      }, 
      {
       "output_type": "stream", 
       "stream": "stderr", 
       "text": [
        ". . "
       ]
      }, 
      {
       "output_type": "stream", 
       "stream": "stderr", 
       "text": [
        ". . "
       ]
      }, 
      {
       "output_type": "stream", 
       "stream": "stderr", 
       "text": [
        ". . "
       ]
      }, 
      {
       "output_type": "stream", 
       "stream": "stderr", 
       "text": [
        ". . "
       ]
      }, 
      {
       "output_type": "stream", 
       "stream": "stderr", 
       "text": [
        ". . "
       ]
      }, 
      {
       "output_type": "stream", 
       "stream": "stderr", 
       "text": [
        ". . "
       ]
      }, 
      {
       "output_type": "stream", 
       "stream": "stderr", 
       "text": [
        ". . "
       ]
      }, 
      {
       "output_type": "stream", 
       "stream": "stderr", 
       "text": [
        ". . "
       ]
      }, 
      {
       "output_type": "stream", 
       "stream": "stderr", 
       "text": [
        ". . "
       ]
      }, 
      {
       "output_type": "stream", 
       "stream": "stderr", 
       "text": [
        ". . "
       ]
      }, 
      {
       "output_type": "stream", 
       "stream": "stderr", 
       "text": [
        ". . "
       ]
      }, 
      {
       "output_type": "stream", 
       "stream": "stderr", 
       "text": [
        ". . "
       ]
      }, 
      {
       "output_type": "stream", 
       "stream": "stderr", 
       "text": [
        ". . "
       ]
      }, 
      {
       "output_type": "stream", 
       "stream": "stderr", 
       "text": [
        ". . "
       ]
      }, 
      {
       "output_type": "stream", 
       "stream": "stderr", 
       "text": [
        ". . "
       ]
      }, 
      {
       "output_type": "stream", 
       "stream": "stderr", 
       "text": [
        ". . "
       ]
      }, 
      {
       "output_type": "stream", 
       "stream": "stderr", 
       "text": [
        ". . "
       ]
      }, 
      {
       "output_type": "stream", 
       "stream": "stderr", 
       "text": [
        ". . "
       ]
      }, 
      {
       "output_type": "stream", 
       "stream": "stderr", 
       "text": [
        ". . "
       ]
      }, 
      {
       "output_type": "stream", 
       "stream": "stderr", 
       "text": [
        ". . "
       ]
      }, 
      {
       "output_type": "stream", 
       "stream": "stderr", 
       "text": [
        ". . "
       ]
      }, 
      {
       "output_type": "stream", 
       "stream": "stderr", 
       "text": [
        ". . "
       ]
      }, 
      {
       "output_type": "stream", 
       "stream": "stderr", 
       "text": [
        ". . "
       ]
      }, 
      {
       "output_type": "stream", 
       "stream": "stderr", 
       "text": [
        ". . "
       ]
      }, 
      {
       "output_type": "stream", 
       "stream": "stderr", 
       "text": [
        ". . "
       ]
      }, 
      {
       "output_type": "stream", 
       "stream": "stderr", 
       "text": [
        ". . "
       ]
      }, 
      {
       "output_type": "stream", 
       "stream": "stderr", 
       "text": [
        ". . "
       ]
      }, 
      {
       "output_type": "stream", 
       "stream": "stderr", 
       "text": [
        ". . "
       ]
      }, 
      {
       "output_type": "stream", 
       "stream": "stderr", 
       "text": [
        ". . "
       ]
      }, 
      {
       "output_type": "stream", 
       "stream": "stderr", 
       "text": [
        ". . "
       ]
      }, 
      {
       "output_type": "stream", 
       "stream": "stderr", 
       "text": [
        ". . "
       ]
      }, 
      {
       "output_type": "stream", 
       "stream": "stderr", 
       "text": [
        ". . "
       ]
      }, 
      {
       "output_type": "stream", 
       "stream": "stderr", 
       "text": [
        ". . "
       ]
      }, 
      {
       "output_type": "stream", 
       "stream": "stderr", 
       "text": [
        ". . "
       ]
      }, 
      {
       "output_type": "stream", 
       "stream": "stderr", 
       "text": [
        ". . "
       ]
      }, 
      {
       "output_type": "stream", 
       "stream": "stderr", 
       "text": [
        ". . "
       ]
      }, 
      {
       "output_type": "stream", 
       "stream": "stderr", 
       "text": [
        ". . "
       ]
      }, 
      {
       "output_type": "stream", 
       "stream": "stderr", 
       "text": [
        ". . "
       ]
      }, 
      {
       "output_type": "stream", 
       "stream": "stderr", 
       "text": [
        ". . "
       ]
      }, 
      {
       "output_type": "stream", 
       "stream": "stderr", 
       "text": [
        ". . "
       ]
      }, 
      {
       "output_type": "stream", 
       "stream": "stderr", 
       "text": [
        ". . "
       ]
      }, 
      {
       "output_type": "stream", 
       "stream": "stderr", 
       "text": [
        ". . "
       ]
      }, 
      {
       "output_type": "stream", 
       "stream": "stderr", 
       "text": [
        ". . "
       ]
      }, 
      {
       "output_type": "stream", 
       "stream": "stderr", 
       "text": [
        ". . "
       ]
      }, 
      {
       "output_type": "stream", 
       "stream": "stderr", 
       "text": [
        ". . "
       ]
      }, 
      {
       "output_type": "stream", 
       "stream": "stderr", 
       "text": [
        ". . "
       ]
      }, 
      {
       "output_type": "stream", 
       "stream": "stderr", 
       "text": [
        ". . "
       ]
      }, 
      {
       "output_type": "stream", 
       "stream": "stderr", 
       "text": [
        ". . "
       ]
      }, 
      {
       "output_type": "stream", 
       "stream": "stderr", 
       "text": [
        ". . "
       ]
      }, 
      {
       "output_type": "stream", 
       "stream": "stderr", 
       "text": [
        ". . "
       ]
      }, 
      {
       "output_type": "stream", 
       "stream": "stderr", 
       "text": [
        ". . "
       ]
      }, 
      {
       "output_type": "stream", 
       "stream": "stderr", 
       "text": [
        ". . "
       ]
      }, 
      {
       "output_type": "stream", 
       "stream": "stderr", 
       "text": [
        ". . "
       ]
      }, 
      {
       "output_type": "stream", 
       "stream": "stderr", 
       "text": [
        ". . "
       ]
      }, 
      {
       "output_type": "stream", 
       "stream": "stderr", 
       "text": [
        ". . "
       ]
      }, 
      {
       "output_type": "stream", 
       "stream": "stderr", 
       "text": [
        ". . "
       ]
      }, 
      {
       "output_type": "stream", 
       "stream": "stderr", 
       "text": [
        ". . "
       ]
      }, 
      {
       "output_type": "stream", 
       "stream": "stderr", 
       "text": [
        ". . "
       ]
      }, 
      {
       "output_type": "stream", 
       "stream": "stderr", 
       "text": [
        ". . "
       ]
      }, 
      {
       "output_type": "stream", 
       "stream": "stderr", 
       "text": [
        ". . "
       ]
      }, 
      {
       "output_type": "stream", 
       "stream": "stderr", 
       "text": [
        ". . "
       ]
      }, 
      {
       "output_type": "stream", 
       "stream": "stderr", 
       "text": [
        ". . "
       ]
      }, 
      {
       "output_type": "stream", 
       "stream": "stderr", 
       "text": [
        ". . "
       ]
      }, 
      {
       "output_type": "stream", 
       "stream": "stderr", 
       "text": [
        ". . "
       ]
      }, 
      {
       "output_type": "stream", 
       "stream": "stderr", 
       "text": [
        ". . "
       ]
      }, 
      {
       "output_type": "stream", 
       "stream": "stderr", 
       "text": [
        ". . "
       ]
      }, 
      {
       "output_type": "stream", 
       "stream": "stderr", 
       "text": [
        ". . "
       ]
      }, 
      {
       "output_type": "stream", 
       "stream": "stderr", 
       "text": [
        ". . "
       ]
      }, 
      {
       "output_type": "stream", 
       "stream": "stderr", 
       "text": [
        ". . "
       ]
      }, 
      {
       "output_type": "stream", 
       "stream": "stderr", 
       "text": [
        ". . "
       ]
      }, 
      {
       "output_type": "stream", 
       "stream": "stderr", 
       "text": [
        ". . "
       ]
      }, 
      {
       "output_type": "stream", 
       "stream": "stderr", 
       "text": [
        ". . "
       ]
      }, 
      {
       "output_type": "stream", 
       "stream": "stderr", 
       "text": [
        ". . "
       ]
      }, 
      {
       "output_type": "stream", 
       "stream": "stderr", 
       "text": [
        ". . "
       ]
      }, 
      {
       "output_type": "stream", 
       "stream": "stderr", 
       "text": [
        ". . "
       ]
      }, 
      {
       "output_type": "stream", 
       "stream": "stderr", 
       "text": [
        ". . "
       ]
      }, 
      {
       "output_type": "stream", 
       "stream": "stderr", 
       "text": [
        ". . "
       ]
      }, 
      {
       "output_type": "stream", 
       "stream": "stderr", 
       "text": [
        ". . "
       ]
      }, 
      {
       "output_type": "stream", 
       "stream": "stderr", 
       "text": [
        ". . "
       ]
      }, 
      {
       "output_type": "stream", 
       "stream": "stderr", 
       "text": [
        ". . "
       ]
      }, 
      {
       "output_type": "stream", 
       "stream": "stderr", 
       "text": [
        ". . "
       ]
      }, 
      {
       "output_type": "stream", 
       "stream": "stderr", 
       "text": [
        ". . "
       ]
      }, 
      {
       "output_type": "stream", 
       "stream": "stderr", 
       "text": [
        ". . "
       ]
      }, 
      {
       "output_type": "stream", 
       "stream": "stderr", 
       "text": [
        ". . "
       ]
      }, 
      {
       "output_type": "stream", 
       "stream": "stderr", 
       "text": [
        ". . "
       ]
      }, 
      {
       "output_type": "stream", 
       "stream": "stderr", 
       "text": [
        ". . "
       ]
      }, 
      {
       "output_type": "stream", 
       "stream": "stderr", 
       "text": [
        ". . "
       ]
      }, 
      {
       "output_type": "stream", 
       "stream": "stderr", 
       "text": [
        ". . "
       ]
      }, 
      {
       "output_type": "stream", 
       "stream": "stderr", 
       "text": [
        ". . "
       ]
      }, 
      {
       "output_type": "stream", 
       "stream": "stderr", 
       "text": [
        ". . "
       ]
      }, 
      {
       "output_type": "stream", 
       "stream": "stderr", 
       "text": [
        ". . "
       ]
      }, 
      {
       "output_type": "stream", 
       "stream": "stderr", 
       "text": [
        ". . "
       ]
      }, 
      {
       "output_type": "stream", 
       "stream": "stderr", 
       "text": [
        ". . "
       ]
      }, 
      {
       "output_type": "stream", 
       "stream": "stderr", 
       "text": [
        ". . "
       ]
      }, 
      {
       "output_type": "stream", 
       "stream": "stderr", 
       "text": [
        ". . "
       ]
      }, 
      {
       "output_type": "stream", 
       "stream": "stderr", 
       "text": [
        ". . "
       ]
      }, 
      {
       "output_type": "stream", 
       "stream": "stderr", 
       "text": [
        ". . "
       ]
      }, 
      {
       "output_type": "stream", 
       "stream": "stderr", 
       "text": [
        ". . "
       ]
      }, 
      {
       "output_type": "stream", 
       "stream": "stderr", 
       "text": [
        ". . "
       ]
      }, 
      {
       "output_type": "stream", 
       "stream": "stderr", 
       "text": [
        ". . "
       ]
      }, 
      {
       "output_type": "stream", 
       "stream": "stderr", 
       "text": [
        ". . "
       ]
      }, 
      {
       "output_type": "stream", 
       "stream": "stderr", 
       "text": [
        ". . "
       ]
      }, 
      {
       "output_type": "stream", 
       "stream": "stderr", 
       "text": [
        ". . "
       ]
      }, 
      {
       "output_type": "stream", 
       "stream": "stderr", 
       "text": [
        ". . "
       ]
      }, 
      {
       "output_type": "stream", 
       "stream": "stderr", 
       "text": [
        ". . "
       ]
      }, 
      {
       "output_type": "stream", 
       "stream": "stderr", 
       "text": [
        ". . "
       ]
      }, 
      {
       "output_type": "stream", 
       "stream": "stderr", 
       "text": [
        ". . "
       ]
      }, 
      {
       "output_type": "stream", 
       "stream": "stderr", 
       "text": [
        ". . "
       ]
      }, 
      {
       "output_type": "stream", 
       "stream": "stderr", 
       "text": [
        ". . "
       ]
      }, 
      {
       "output_type": "stream", 
       "stream": "stderr", 
       "text": [
        ". ."
       ]
      }, 
      {
       "output_type": "stream", 
       "stream": "stderr", 
       "text": [
        " . "
       ]
      }, 
      {
       "output_type": "stream", 
       "stream": "stderr", 
       "text": [
        ". . "
       ]
      }, 
      {
       "output_type": "stream", 
       "stream": "stderr", 
       "text": [
        ". . "
       ]
      }, 
      {
       "output_type": "stream", 
       "stream": "stderr", 
       "text": [
        ". . "
       ]
      }, 
      {
       "output_type": "stream", 
       "stream": "stderr", 
       "text": [
        ". . "
       ]
      }, 
      {
       "output_type": "stream", 
       "stream": "stderr", 
       "text": [
        ". . "
       ]
      }, 
      {
       "output_type": "stream", 
       "stream": "stderr", 
       "text": [
        ". . "
       ]
      }, 
      {
       "output_type": "stream", 
       "stream": "stderr", 
       "text": [
        ". . "
       ]
      }, 
      {
       "output_type": "stream", 
       "stream": "stderr", 
       "text": [
        ". . "
       ]
      }, 
      {
       "output_type": "stream", 
       "stream": "stderr", 
       "text": [
        ". . "
       ]
      }, 
      {
       "output_type": "stream", 
       "stream": "stderr", 
       "text": [
        ". . "
       ]
      }, 
      {
       "output_type": "stream", 
       "stream": "stderr", 
       "text": [
        ". . "
       ]
      }, 
      {
       "output_type": "stream", 
       "stream": "stderr", 
       "text": [
        ". . "
       ]
      }, 
      {
       "output_type": "stream", 
       "stream": "stderr", 
       "text": [
        ". . "
       ]
      }, 
      {
       "output_type": "stream", 
       "stream": "stderr", 
       "text": [
        ". . "
       ]
      }, 
      {
       "output_type": "stream", 
       "stream": "stderr", 
       "text": [
        ". . "
       ]
      }, 
      {
       "output_type": "stream", 
       "stream": "stderr", 
       "text": [
        ". . "
       ]
      }, 
      {
       "output_type": "stream", 
       "stream": "stderr", 
       "text": [
        ". . "
       ]
      }, 
      {
       "output_type": "stream", 
       "stream": "stderr", 
       "text": [
        ". . "
       ]
      }, 
      {
       "output_type": "stream", 
       "stream": "stderr", 
       "text": [
        ". . "
       ]
      }, 
      {
       "output_type": "stream", 
       "stream": "stderr", 
       "text": [
        ". . "
       ]
      }, 
      {
       "output_type": "stream", 
       "stream": "stderr", 
       "text": [
        ". . "
       ]
      }, 
      {
       "output_type": "stream", 
       "stream": "stderr", 
       "text": [
        ". . "
       ]
      }, 
      {
       "output_type": "stream", 
       "stream": "stderr", 
       "text": [
        ". . "
       ]
      }, 
      {
       "output_type": "stream", 
       "stream": "stderr", 
       "text": [
        ". . "
       ]
      }, 
      {
       "output_type": "stream", 
       "stream": "stderr", 
       "text": [
        ". . "
       ]
      }, 
      {
       "output_type": "stream", 
       "stream": "stderr", 
       "text": [
        ". . "
       ]
      }, 
      {
       "output_type": "stream", 
       "stream": "stderr", 
       "text": [
        ". . "
       ]
      }, 
      {
       "output_type": "stream", 
       "stream": "stderr", 
       "text": [
        ". . "
       ]
      }, 
      {
       "output_type": "stream", 
       "stream": "stderr", 
       "text": [
        ". . "
       ]
      }, 
      {
       "output_type": "stream", 
       "stream": "stderr", 
       "text": [
        ". . "
       ]
      }, 
      {
       "output_type": "stream", 
       "stream": "stderr", 
       "text": [
        ". . "
       ]
      }, 
      {
       "output_type": "stream", 
       "stream": "stderr", 
       "text": [
        ". . "
       ]
      }, 
      {
       "output_type": "stream", 
       "stream": "stderr", 
       "text": [
        ". . "
       ]
      }, 
      {
       "output_type": "stream", 
       "stream": "stderr", 
       "text": [
        ". . "
       ]
      }, 
      {
       "output_type": "stream", 
       "stream": "stderr", 
       "text": [
        ". . "
       ]
      }, 
      {
       "output_type": "stream", 
       "stream": "stderr", 
       "text": [
        ". . "
       ]
      }, 
      {
       "output_type": "stream", 
       "stream": "stderr", 
       "text": [
        ". . "
       ]
      }, 
      {
       "output_type": "stream", 
       "stream": "stderr", 
       "text": [
        ". . "
       ]
      }, 
      {
       "output_type": "stream", 
       "stream": "stderr", 
       "text": [
        ". . "
       ]
      }, 
      {
       "output_type": "stream", 
       "stream": "stderr", 
       "text": [
        ". . "
       ]
      }, 
      {
       "output_type": "stream", 
       "stream": "stderr", 
       "text": [
        ". . "
       ]
      }, 
      {
       "output_type": "stream", 
       "stream": "stderr", 
       "text": [
        ". . "
       ]
      }, 
      {
       "output_type": "stream", 
       "stream": "stderr", 
       "text": [
        ". . "
       ]
      }, 
      {
       "output_type": "stream", 
       "stream": "stderr", 
       "text": [
        ". . "
       ]
      }, 
      {
       "output_type": "stream", 
       "stream": "stderr", 
       "text": [
        ". . "
       ]
      }, 
      {
       "output_type": "stream", 
       "stream": "stderr", 
       "text": [
        ". . "
       ]
      }, 
      {
       "output_type": "stream", 
       "stream": "stderr", 
       "text": [
        ". . "
       ]
      }, 
      {
       "output_type": "stream", 
       "stream": "stderr", 
       "text": [
        ". . "
       ]
      }, 
      {
       "output_type": "stream", 
       "stream": "stderr", 
       "text": [
        ". . "
       ]
      }, 
      {
       "output_type": "stream", 
       "stream": "stderr", 
       "text": [
        ". . "
       ]
      }, 
      {
       "output_type": "stream", 
       "stream": "stderr", 
       "text": [
        ". . "
       ]
      }, 
      {
       "output_type": "stream", 
       "stream": "stderr", 
       "text": [
        ". . "
       ]
      }, 
      {
       "output_type": "stream", 
       "stream": "stderr", 
       "text": [
        ". . "
       ]
      }, 
      {
       "output_type": "stream", 
       "stream": "stderr", 
       "text": [
        ". . "
       ]
      }, 
      {
       "output_type": "stream", 
       "stream": "stderr", 
       "text": [
        ". . "
       ]
      }, 
      {
       "output_type": "stream", 
       "stream": "stderr", 
       "text": [
        ". . "
       ]
      }, 
      {
       "output_type": "stream", 
       "stream": "stderr", 
       "text": [
        ". . "
       ]
      }, 
      {
       "output_type": "stream", 
       "stream": "stderr", 
       "text": [
        ". . "
       ]
      }, 
      {
       "output_type": "stream", 
       "stream": "stderr", 
       "text": [
        ". . "
       ]
      }, 
      {
       "output_type": "stream", 
       "stream": "stderr", 
       "text": [
        ". . "
       ]
      }, 
      {
       "output_type": "stream", 
       "stream": "stderr", 
       "text": [
        ". . "
       ]
      }, 
      {
       "output_type": "stream", 
       "stream": "stderr", 
       "text": [
        ". "
       ]
      }, 
      {
       "output_type": "stream", 
       "stream": "stderr", 
       "text": [
        ". "
       ]
      }, 
      {
       "output_type": "stream", 
       "stream": "stderr", 
       "text": [
        ". "
       ]
      }, 
      {
       "output_type": "stream", 
       "stream": "stderr", 
       "text": [
        ". "
       ]
      }, 
      {
       "output_type": "stream", 
       "stream": "stderr", 
       "text": [
        ". . "
       ]
      }, 
      {
       "output_type": "stream", 
       "stream": "stderr", 
       "text": [
        ". . "
       ]
      }, 
      {
       "output_type": "stream", 
       "stream": "stderr", 
       "text": [
        ". . "
       ]
      }, 
      {
       "output_type": "stream", 
       "stream": "stderr", 
       "text": [
        ". . "
       ]
      }, 
      {
       "output_type": "stream", 
       "stream": "stderr", 
       "text": [
        ". . "
       ]
      }, 
      {
       "output_type": "stream", 
       "stream": "stderr", 
       "text": [
        ". . "
       ]
      }, 
      {
       "output_type": "stream", 
       "stream": "stderr", 
       "text": [
        ". . "
       ]
      }, 
      {
       "output_type": "stream", 
       "stream": "stderr", 
       "text": [
        ". "
       ]
      }, 
      {
       "output_type": "stream", 
       "stream": "stderr", 
       "text": [
        ". "
       ]
      }, 
      {
       "output_type": "stream", 
       "stream": "stderr", 
       "text": [
        ". . "
       ]
      }, 
      {
       "output_type": "stream", 
       "stream": "stderr", 
       "text": [
        ". . "
       ]
      }, 
      {
       "output_type": "stream", 
       "stream": "stderr", 
       "text": [
        ". . "
       ]
      }, 
      {
       "output_type": "stream", 
       "stream": "stderr", 
       "text": [
        ". . "
       ]
      }, 
      {
       "output_type": "stream", 
       "stream": "stderr", 
       "text": [
        ". . "
       ]
      }, 
      {
       "output_type": "stream", 
       "stream": "stderr", 
       "text": [
        ". . "
       ]
      }, 
      {
       "output_type": "stream", 
       "stream": "stderr", 
       "text": [
        ". . "
       ]
      }, 
      {
       "output_type": "stream", 
       "stream": "stderr", 
       "text": [
        ". . "
       ]
      }, 
      {
       "output_type": "stream", 
       "stream": "stderr", 
       "text": [
        ". . "
       ]
      }, 
      {
       "output_type": "stream", 
       "stream": "stderr", 
       "text": [
        ". . "
       ]
      }, 
      {
       "output_type": "stream", 
       "stream": "stderr", 
       "text": [
        ""
       ]
      }
     ], 
     "prompt_number": 13
    }, 
    {
     "cell_type": "code", 
     "collapsed": true, 
     "input": [
      "E2 = np.array([hamiltonian(gamma, z) for z in zs2])", 
      "E2 = E2-E2[0]"
     ], 
     "language": "python", 
     "outputs": [], 
     "prompt_number": 14
    }, 
    {
     "cell_type": "code", 
     "collapsed": false, 
     "input": [
      "fig = figure()", 
      "ax = fig.add_subplot(111)", 
      "plot(times1, E1, label=r'$\\alpha=1.0$')", 
      "plot(times2, E2, label=r'$\\alpha=0.9$')", 
      "xlabel('Time')", 
      "ylabel('Absolute energy error')", 
      "#ylim((-1e-1,0))", 
      "ax.yaxis.set_major_formatter(sfmt)", 
      "ax.autoscale(axis='x', tight=True)", 
      "legend(loc='best')", 
      "savefig('planar-energy-divergence.pdf')", 
      "show()"
     ], 
     "language": "python", 
     "outputs": [
      {
       "output_type": "display_data", 
       "png": "[encoded data removed]"
      }
     ], 
     "prompt_number": 24
    }, 
    {
     "cell_type": "code", 
     "collapsed": false, 
     "input": [
      "plot(zs2[:,0].real, zs2[:,0].imag)", 
      "plot(zs2[:,1].real, zs2[:,1].imag)", 
      "plot(zs2[:,2].real, zs2[:,2].imag)", 
      "plot(zs2[:,3].real, zs2[:,3].imag)"
     ], 
     "language": "python", 
     "outputs": [
      {
       "output_type": "pyout", 
       "prompt_number": 21, 
       "text": [
        "[<matplotlib.lines.Line2D at 0x109a71d50>]"
       ]
      }, 
      {
       "output_type": "display_data", 
       "png": "[encoded data removed]"
      }
     ], 
     "prompt_number": 21
    }, 
    {
     "cell_type": "code", 
     "collapsed": true, 
     "input": [], 
     "language": "python", 
     "outputs": []
    }
   ]
  }
 ]
}