{
 "metadata": {
  "name": "Polvani-Dritschel (time vs. accuracy)"
 }, 
 "nbformat": 2, 
 "worksheets": [
  {
   "cells": [
    {
     "cell_type": "code", 
     "collapsed": true, 
     "input": [
      "from hopf.util.matlab_io import load_variables", 
      "import numpy.linalg as LA"
     ], 
     "language": "python", 
     "outputs": [], 
     "prompt_number": 31
    }, 
    {
     "cell_type": "code", 
     "collapsed": true, 
     "input": [
      "rcParams['figure.figsize'] = (3., 2.)", 
      "rcParams['figure.dpi'] = 150"
     ], 
     "language": "python", 
     "outputs": [], 
     "prompt_number": 32
    }, 
    {
     "cell_type": "code", 
     "collapsed": true, 
     "input": [
      "from matplotlib.ticker import MaxNLocator, FormatStrFormatter, ScalarFormatter"
     ], 
     "language": "python", 
     "outputs": [], 
     "prompt_number": 33
    }, 
    {
     "cell_type": "code", 
     "collapsed": true, 
     "input": [
      "sfmt = ScalarFormatter()", 
      "sfmt.set_scientific(True)", 
      "sfmt.set_powerlimits((-2, 4))"
     ], 
     "language": "python", 
     "outputs": [], 
     "prompt_number": 34
    }, 
    {
     "cell_type": "code", 
     "collapsed": false, 
     "input": [
      "# Load frequency", 
      "omega = load_variables('pd_initial_conditions.mat', ['omega'])[0];", 
      "", 
      "# Load initial conditions (for exact solution)", 
      "X0 = load_variables('pd_initial_conditions.mat', ['X0'])[0]"
     ], 
     "language": "python", 
     "outputs": [], 
     "prompt_number": 35
    }, 
    {
     "cell_type": "markdown", 
     "source": [
      "Periodicity of the solutions", 
      "----------------------------"
     ]
    }, 
    {
     "cell_type": "code", 
     "collapsed": true, 
     "input": [
      "# Normal size figures", 
      "import matplotlib", 
      "matplotlib.rcParams['savefig.dpi'] = 75       # figure dots per inch", 
      "matplotlib.rcParams['figure.figsize'] = 6, 4.5  # figure size in inches", 
      "matplotlib.rcParams['font.size'] = 15  # size of default fonts", 
      "matplotlib.rcParams['figure.subplot.left'] = .15", 
      "#matplotlib.rcParams['figure.subplot.right'] = .25", 
      "matplotlib.rcParams['figure.subplot.bottom'] = .15"
     ], 
     "language": "python", 
     "outputs": [], 
     "prompt_number": 36
    }, 
    {
     "cell_type": "code", 
     "collapsed": false, 
     "input": [
      "# Frequency of the rotations", 
      "omega"
     ], 
     "language": "python", 
     "outputs": [
      {
       "output_type": "pyout", 
       "prompt_number": 37, 
       "text": [
        "array(0.3971965810670132)"
       ]
      }
     ], 
     "prompt_number": 37
    }, 
    {
     "cell_type": "code", 
     "collapsed": false, 
     "input": [
      "# Period of the rotations", 
      "T = 2*pi/omega; T"
     ], 
     "language": "python", 
     "outputs": [
      {
       "output_type": "pyout", 
       "prompt_number": 38, 
       "text": [
        "15.818830288772087"
       ]
      }
     ], 
     "prompt_number": 38
    }, 
    {
     "cell_type": "code", 
     "collapsed": false, 
     "input": [
      "# Compute exact solution", 
      "x0 = X0[0, :]", 
      "", 
      "sin = np.sin", 
      "cos = np.cos", 
      "", 
      "def exact_solution(t, x0):", 
      "    R = np.array([[cos(omega*t), -sin(omega*t), 0], [sin(omega*t), cos(omega*t), 0], [0, 0, 1]])", 
      "    return np.dot(R, x0)"
     ], 
     "language": "python", 
     "outputs": [], 
     "prompt_number": 39
    }, 
    {
     "cell_type": "markdown", 
     "source": [
      "Time versus accuracy plot", 
      "-------------------------"
     ]
    }, 
    {
     "cell_type": "code", 
     "collapsed": true, 
     "input": [
      "import os", 
      "", 
      "def compute_errors(filename):", 
      "", 
      "    tmp = np.empty(100)", 
      "    errors =  []", 
      "    cpu_times = []", 
      "", 
      "    for n, h in enumerate(logspace(-3, -1, 10)): ", 
      "        f = filename % n", 
      "        if not os.path.exists(f):", 
      "            continue", 
      "        ", 
      "        cpu_time, times, vortices = load_variables(f, ['time', 'times', 'vortices'])", 
      "        x = vortices[:, 0, 0]", 
      "    ", 
      "        for k, t in enumerate(times):", 
      "            tmp[k] = LA.norm(exact_solution(t, x0) - vortices[k, 0, :])", 
      "        ", 
      "        val = max(abs(tmp))", 
      "        cpu_times.append(cpu_time)", 
      "        errors.append(val)", 
      "    ", 
      "    return cpu_times, errors"
     ], 
     "language": "python", 
     "outputs": [], 
     "prompt_number": 40
    }, 
    {
     "cell_type": "code", 
     "collapsed": false, 
     "input": [
      "times_hopf, errors_hopf = compute_errors('data/pd_timed_sphere_%d.mat')", 
      "#steps_lp, errors_lp = compute_errors('data/pd_lp_order_%d.mat')", 
      "times_mp, errors_mp = compute_errors('data/pd_timed_midpoint_%d.mat')"
     ], 
     "language": "python", 
     "outputs": [], 
     "prompt_number": 41
    }, 
    {
     "cell_type": "code", 
     "collapsed": false, 
     "input": [], 
     "language": "python", 
     "outputs": [], 
     "prompt_number": 41
    }, 
    {
     "cell_type": "code", 
     "collapsed": false, 
     "input": [
      "fig = figure()", 
      "ax = fig.add_subplot(111)", 
      "loglog(times_hopf, errors_hopf, marker='^', label='Hopf')", 
      "loglog(times_mp, errors_mp, marker='*', label='Midpoint')", 
      "xlabel('CPU time')", 
      "ylabel('Absolute error')", 
      "legend(loc='best')", 
      "savefig('pd-cputime-comparison.pdf')"
     ], 
     "language": "python", 
     "outputs": [
      {
       "output_type": "display_data", 
       "png": "[encoded data removed]"
      }
     ], 
     "prompt_number": 42
    }, 
    {
     "cell_type": "code", 
     "collapsed": true, 
     "input": [], 
     "language": "python", 
     "outputs": []
    }
   ]
  }
 ]
}