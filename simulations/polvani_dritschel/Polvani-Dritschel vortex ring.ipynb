{
 "metadata": {
  "name": "Polvani-Dritschel vortex ring"
 }, 
 "nbformat": 2, 
 "worksheets": [
  {
   "cells": [
    {
     "cell_type": "code", 
     "collapsed": true, 
     "input": [
      "from mayavi import mlab"
     ], 
     "language": "python", 
     "outputs": [], 
     "prompt_number": 2
    }, 
    {
     "cell_type": "code", 
     "collapsed": true, 
     "input": [
      "from matlab_io import load_variables"
     ], 
     "language": "python", 
     "outputs": [], 
     "prompt_number": 3
    }, 
    {
     "cell_type": "code", 
     "collapsed": true, 
     "input": [
      "rcParams['figure.figsize'] = (3., 2.)", 
      "rcParams['figure.dpi'] = 150"
     ], 
     "language": "python", 
     "outputs": [], 
     "prompt_number": 4
    }, 
    {
     "cell_type": "code", 
     "collapsed": true, 
     "input": [
      "import matplotlib", 
      "matplotlib.rcParams['savefig.dpi'] = 75       # figure dots per inch", 
      "matplotlib.rcParams['figure.figsize'] = 6, 4.5  # figure size in inches", 
      "matplotlib.rcParams['font.size'] = 15  # size of default fonts", 
      "matplotlib.rcParams['figure.subplot.left'] = .15", 
      "#matplotlib.rcParams['figure.subplot.right'] = .25", 
      "matplotlib.rcParams['figure.subplot.bottom'] = .15"
     ], 
     "language": "python", 
     "outputs": [], 
     "prompt_number": 5
    }, 
    {
     "cell_type": "code", 
     "collapsed": true, 
     "input": [
      "from matplotlib.ticker import MaxNLocator, FormatStrFormatter, ScalarFormatter"
     ], 
     "language": "python", 
     "outputs": [], 
     "prompt_number": 6
    }, 
    {
     "cell_type": "code", 
     "collapsed": true, 
     "input": [
      "sfmt = ScalarFormatter()", 
      "sfmt.set_scientific(True)", 
      "sfmt.set_powerlimits((-2, 4))"
     ], 
     "language": "python", 
     "outputs": [], 
     "prompt_number": 7
    }, 
    {
     "cell_type": "code", 
     "collapsed": true, 
     "input": [
      "# Load data (long term simulation)", 
      "times_hopf_long, vortices_hopf_long, energies_hopf_long, moments_hopf_long = \\", 
      "        load_variables('pd_sphere_long.mat', ['times', 'vortices', 'energies', 'moments'])", 
      "", 
      "times_rk4_long, vortices_rk4_long, energies_rk4_long, moments_rk4_long = \\", 
      "        load_variables('pd_rk4_long.mat', ['times', 'vortices', 'energies', 'moments'])", 
      "    ", 
      "# Load frequency", 
      "omega = load_variables('pd_initial_conditions.mat', ['omega']); omega=omega[0][0][0]", 
      "", 
      "# Load data (short term simulation)", 
      "times_hopf_short, vortices_hopf_short, energies_hopf_short, moments_hopf_short = \\", 
      "        load_variables('pd_sphere_short.mat', ['times', 'vortices', 'energies', 'moments'])", 
      "", 
      "times_rk4_short, vortices_rk4_short, energies_rk4_short, moments_rk4_short = \\", 
      "        load_variables('pd_rk4_short.mat', ['times', 'vortices', 'energies', 'moments'])", 
      "    ", 
      "# Hack...", 
      "times_hopf_long.shape = 100", 
      "times_rk4_long.shape = 100 ", 
      "times_hopf_short.shape = 100", 
      "times_rk4_short.shape = 100"
     ], 
     "language": "python", 
     "outputs": [], 
     "prompt_number": 8
    }, 
    {
     "cell_type": "markdown", 
     "source": [
      "Mayavi plot of initial conditions", 
      "---------------------------------"
     ]
    }, 
    {
     "cell_type": "code", 
     "collapsed": false, 
     "input": [
      "# Load initial conditions (for exact solution)", 
      "X0 = load_variables('pd_initial_conditions.mat', ['X0'])[0]"
     ], 
     "language": "python", 
     "outputs": [], 
     "prompt_number": 9
    }, 
    {
     "cell_type": "code", 
     "collapsed": true, 
     "input": [
      "mlab.figure(1, bgcolor=(1, 1, 1), fgcolor=(0, 0, 0))#, size=(400, 300))", 
      "", 
      "r = 1", 
      "pi = np.pi", 
      "cos = np.cos", 
      "sin = np.sin", 
      "phi, theta = np.mgrid[0:pi:101j, 0:2*pi:101j]", 
      "", 
      "x = r*sin(phi)*cos(theta)", 
      "y = r*sin(phi)*sin(theta)", 
      "z = r*cos(phi)", 
      "", 
      "sphere = mlab.mesh(x, y, z, color=(0.67, 0.77, 0.93), resolution=50, opacity=0.7)", 
      "sphere.actor.property.backface_culling = True", 
      "", 
      "mlab.move(forward=20)", 
      "", 
      "c = (.66, .60, .57)", 
      "for n in range(0, 6):", 
      "    vx, vy, vz = X0[n, :] ", 
      "    mlab.points3d([vx], [vy], [vz], color=c, scale_factor=0.1)", 
      "mlab.show()"
     ], 
     "language": "python", 
     "outputs": [], 
     "prompt_number": 13
    }, 
    {
     "cell_type": "markdown", 
     "source": [
      "Comparison of Hopf integrator with RK4 (long integration times)", 
      "----------------------------------------------------------------", 
      "", 
      "Simulation parameters: $h = 0.1$, $\\sigma = 0.0$, $T = 1000$."
     ]
    }, 
    {
     "cell_type": "code", 
     "collapsed": true, 
     "input": [
      "# Compute errors", 
      "energy_error_hopf = energies_hopf_long - energies_hopf_long[0]", 
      "energy_error_rk4 = energies_rk4_long - energies_rk4_long[0]"
     ], 
     "language": "python", 
     "outputs": [], 
     "prompt_number": 7
    }, 
    {
     "cell_type": "code", 
     "collapsed": true, 
     "input": [
      "# Energy comparison figure", 
      "clf()", 
      "fig = figure()", 
      "ax = fig.add_subplot(111)", 
      "plot(times_hopf_long, energy_error_hopf, label='Hopf')", 
      "plot(times_rk4_long, energy_error_rk4, label='RK4', linestyle='--')", 
      "xlabel(r'$t$', fontsize=20)", 
      "ylabel('Energy error')", 
      "ax.autoscale(axis='x', tight=True)", 
      "legend(loc='best')", 
      "savefig('pd-energy-comparison-long.pdf')", 
      "show()"
     ], 
     "language": "python", 
     "outputs": [], 
     "prompt_number": 8
    }, 
    {
     "cell_type": "code", 
     "collapsed": true, 
     "input": [
      "# Variational energy error", 
      "fig = figure()", 
      "ax = fig.add_subplot(111)", 
      "plot(times_hopf_long, energy_error_hopf, label='Hopf')", 
      "xlabel(r'$t$', fontsize=20)", 
      "ylabel('Energy error')", 
      "ax.autoscale(axis='x', tight=True)", 
      "ax.yaxis.set_major_locator(MaxNLocator(5))", 
      "legend(loc='best')", 
      "savefig('pd-energy-variational-long.pdf')", 
      "show()"
     ], 
     "language": "python", 
     "outputs": [], 
     "prompt_number": 36
    }, 
    {
     "cell_type": "markdown", 
     "source": [
      "Comparison of Hopf integrator with RK4 (moment error)", 
      "-----------------------------------------------------", 
      "", 
      "Here $h = 0.1$, $\\sigma = 0.0$ and $T = 1000$."
     ]
    }, 
    {
     "cell_type": "code", 
     "collapsed": true, 
     "input": [
      "# Compute moment errors", 
      "moment_error_hopf = np.zeros(len(times_hopf_long))", 
      "moment_error_rk4  = np.zeros(len(times_rk4_long))", 
      "", 
      "import numpy.linalg as LA", 
      "for k in xrange(0, len(times_hopf_long)):", 
      "    moment_error_hopf[k] = LA.norm(moments_hopf_long[k, :] - moments_hopf_long[0, :])", 
      "    moment_error_rk4[k] = LA.norm(moments_rk4_long[k, :] - moments_rk4_long[0, :])"
     ], 
     "language": "python", 
     "outputs": [], 
     "prompt_number": 10
    }, 
    {
     "cell_type": "code", 
     "collapsed": true, 
     "input": [
      "# Moment comparison figure", 
      "fig = figure()", 
      "ax = fig.add_subplot(111)", 
      "plot(times_hopf_long, moment_error_hopf, label='Hopf')", 
      "plot(times_rk4_long, moment_error_rk4, label='RK4', linestyle='--')", 
      "ax.yaxis.set_major_formatter(sfmt)", 
      "xlabel(r'$t$', fontsize=20)", 
      "ylabel('Norm of the moment error')", 
      "ax.autoscale(axis='x', tight=True)", 
      "ylim((-.2e-8, 2e-8)) # Make sure that Hopf graph isn't exactly on the x-axis", 
      "legend(loc='best')", 
      "savefig('pd-moment-comparison-long.pdf')", 
      "show()"
     ], 
     "language": "python", 
     "outputs": [], 
     "prompt_number": 11
    }, 
    {
     "cell_type": "code", 
     "collapsed": true, 
     "input": [
      "# Variational moment error", 
      "fig = figure()", 
      "ax = fig.add_subplot(111)", 
      "plot(times_hopf_long, moment_error_hopf, label='Hopf')", 
      "xlabel(r'$t$', fontsize=20)", 
      "ylabel('Norm of the moment error')", 
      "ax.autoscale(axis='x', tight=True)", 
      "ax.yaxis.set_major_locator(MaxNLocator(5))", 
      "legend(loc='best')", 
      "savefig('pd-moment-variational-long.pdf')", 
      "show()"
     ], 
     "language": "python", 
     "outputs": [], 
     "prompt_number": 37
    }, 
    {
     "cell_type": "markdown", 
     "source": [
      "Preservation of unit length constraint", 
      "--------------------------------------"
     ]
    }, 
    {
     "cell_type": "code", 
     "collapsed": true, 
     "input": [
      "norm_infty = np.zeros(len(times_hopf_long))", 
      "for k, vortex in enumerate(vortices_hopf_long):", 
      "    lengths = np.sum(vortex**2, axis=1)", 
      "    norm_infty[k] = np.max(np.abs(lengths))", 
      "    "
     ], 
     "language": "python", 
     "outputs": [], 
     "prompt_number": 13
    }, 
    {
     "cell_type": "code", 
     "collapsed": true, 
     "input": [
      "# Variational unit length error", 
      "fig = figure()", 
      "ax = fig.add_subplot(111)", 
      "plot(times_hopf_long, norm_infty-1)", 
      "xlabel(r'$t$', fontsize=20)", 
      "ylabel('Constraint error')", 
      "ax.autoscale(axis='x', tight=True)", 
      "ax.yaxis.set_major_locator(MaxNLocator(5))", 
      "savefig('pd-unitlength-variational-long.pdf')", 
      "show()"
     ], 
     "language": "python", 
     "outputs": [], 
     "prompt_number": 14
    }, 
    {
     "cell_type": "markdown", 
     "source": [
      "Periodicity of the solutions", 
      "----------------------------"
     ]
    }, 
    {
     "cell_type": "code", 
     "collapsed": true, 
     "input": [
      "# Frequency of the rotations", 
      "omega"
     ], 
     "language": "python", 
     "outputs": [], 
     "prompt_number": 32
    }, 
    {
     "cell_type": "code", 
     "collapsed": true, 
     "input": [
      "# Period of the rotations", 
      "T = 2*pi/omega; T"
     ], 
     "language": "python", 
     "outputs": [], 
     "prompt_number": 15
    }, 
    {
     "cell_type": "code", 
     "collapsed": true, 
     "input": [
      "n = 0 # Plot components of first vortex", 
      "x = vortices_hopf_short[:, n, 0]", 
      "y = vortices_hopf_short[:, n, 1]", 
      "z = vortices_hopf_short[:, n, 2]", 
      "t = times_hopf_short"
     ], 
     "language": "python", 
     "outputs": [], 
     "prompt_number": 34
    }, 
    {
     "cell_type": "code", 
     "collapsed": true, 
     "input": [
      "fig = figure()", 
      "ax = fig.add_subplot(111)", 
      "plot(t, x)", 
      "plot(t, y)", 
      "plot(t, z)", 
      "xlabel(r'$t$', fontsize=20)", 
      "ylabel('Components of the first vortex')", 
      "ax.autoscale(axis='x', tight=True)", 
      "ax.yaxis.set_major_locator(MaxNLocator(5))", 
      "savefig('pd-trajectory-variational-short.pdf')", 
      "show()"
     ], 
     "language": "python", 
     "outputs": [], 
     "prompt_number": 35
    }, 
    {
     "cell_type": "code", 
     "collapsed": true, 
     "input": [
      "# Load initial conditions (for exact solution)", 
      "X0 = load_variables('pd_initial_conditions.mat', ['X0'])[0]", 
      "X0 "
     ], 
     "language": "python", 
     "outputs": [], 
     "prompt_number": 18
    }, 
    {
     "cell_type": "code", 
     "collapsed": true, 
     "input": [
      "# Compute exact solution", 
      "x0 = X0[0, :]", 
      "", 
      "sin = np.sin", 
      "cos = np.cos", 
      "", 
      "def exact_solution(t, x0):", 
      "    R = np.array([[cos(omega*t), -sin(omega*t), 0], [sin(omega*t), cos(omega*t), 0], [0, 0, 1]])", 
      "    return np.dot(R, x0)", 
      "    ", 
      "hopf_errors = np.empty(len(times_hopf_short))", 
      "rk4_errors = np.empty(len(times_rk4_short))", 
      "", 
      "for k, t in enumerate(times_hopf_short):", 
      "    hopf_errors[k] = LA.norm(vortices_hopf_short[k, 0, :] - exact_solution(t, x0))", 
      "    ", 
      "for k, t in enumerate(times_rk4_short):", 
      "    rk4_errors[k] = LA.norm(vortices_rk4_short[k, 0, :] - exact_solution(t, x0))"
     ], 
     "language": "python", 
     "outputs": [], 
     "prompt_number": 19
    }, 
    {
     "cell_type": "code", 
     "collapsed": true, 
     "input": [
      "fig = figure()", 
      "ax = fig.add_subplot(111)", 
      "semilogy(times_hopf_short, hopf_errors, label='Hopf')", 
      "semilogy(times_rk4_short, rk4_errors, label='RK4', linestyle='--')", 
      "xlabel(r'$t$', fontsize=20)", 
      "ylabel('Absolute error')", 
      "ax.autoscale(axis='x', tight=True)", 
      "ax.set_xlim((0,50))", 
      "legend(loc='best')", 
      "savefig('pd-error-comparison-short.pdf')", 
      "show()"
     ], 
     "language": "python", 
     "outputs": [], 
     "prompt_number": 20
    }, 
    {
     "cell_type": "markdown", 
     "source": [
      "Periodicity of numerical solutions", 
      "----------------------------------"
     ]
    }, 
    {
     "cell_type": "code", 
     "collapsed": true, 
     "input": [
      "from scipy.optimize import curve_fit"
     ], 
     "language": "python", 
     "outputs": [], 
     "prompt_number": 21
    }, 
    {
     "cell_type": "code", 
     "collapsed": true, 
     "input": [
      "def cosine(xdata, amplitude, freq, phase):", 
      "    return amplitude*np.cos(freq*xdata + phase)"
     ], 
     "language": "python", 
     "outputs": [], 
     "prompt_number": 22
    }, 
    {
     "cell_type": "code", 
     "collapsed": true, 
     "input": [
      "def fit_cosine(t, x):", 
      "    return curve_fit(cosine, t, x, [.4, omega, 0.])"
     ], 
     "language": "python", 
     "outputs": [], 
     "prompt_number": 23
    }, 
    {
     "cell_type": "code", 
     "collapsed": true, 
     "input": [
      "params_hopf, pcov_hopf = fit_cosine(times_hopf_short, vortices_hopf_short[:, 0, 0])", 
      "params_rk4, pcov_rk4 = fit_cosine(times_rk4_short, vortices_rk4_short[:, 0, 0])"
     ], 
     "language": "python", 
     "outputs": [], 
     "prompt_number": 24
    }, 
    {
     "cell_type": "code", 
     "collapsed": true, 
     "input": [
      "print pcov_rk4"
     ], 
     "language": "python", 
     "outputs": [], 
     "prompt_number": 25
    }, 
    {
     "cell_type": "code", 
     "collapsed": true, 
     "input": [
      "def SSE(times, x, params):", 
      "    return np.abs(x - cosine(times, *params))"
     ], 
     "language": "python", 
     "outputs": [], 
     "prompt_number": 26
    }, 
    {
     "cell_type": "code", 
     "collapsed": true, 
     "input": [
      "s_hopf = SSE(times_hopf_long, vortices_hopf_long[:, 0, 0], params_hopf)", 
      "s_rk4  = SSE(times_rk4_long, vortices_rk4_long[:, 0, 0], params_rk4)"
     ], 
     "language": "python", 
     "outputs": [], 
     "prompt_number": 27
    }, 
    {
     "cell_type": "code", 
     "collapsed": true, 
     "input": [
      "fig = figure()", 
      "ax = fig.add_subplot(111)", 
      "semilogy(times_hopf_long, s_hopf, label='Hopf')", 
      "semilogy(times_rk4_long, s_rk4, label='RK4', linestyle='--')", 
      "xlabel(r'$t$', fontsize=20)", 
      "ylabel('Deviation from cosine')", 
      "ax.autoscale(axis='x', tight=True)", 
      "legend(loc='lower right')", 
      "savefig('pd-cosine-deviation-long.pdf')", 
      "show()"
     ], 
     "language": "python", 
     "outputs": [], 
     "prompt_number": 28
    }, 
    {
     "cell_type": "markdown", 
     "source": [
      "Numerical order calculation", 
      "---------------------------"
     ]
    }, 
    {
     "cell_type": "code", 
     "collapsed": true, 
     "input": [
      "tmp = np.empty(100)", 
      "errors =  []", 
      "steps = []", 
      "", 
      "for h in logspace(-3, -1, 10):", 
      "    k = int(1000*h)", 
      "    filename = \"pd_order_%d.mat\" % k", 
      "    times, vortices = load_variables(filename, ['times', 'vortices'])", 
      "    x = vortices[:, 0, 0]", 
      "    ", 
      "    for n, t in enumerate(times):", 
      "        tmp[n] = LA.norm(exact_solution(t, x0) - vortices[n, 0, :])", 
      "        ", 
      "    steps.append(h)", 
      "    errors.append(max(abs(tmp)))"
     ], 
     "language": "python", 
     "outputs": [], 
     "prompt_number": 52
    }, 
    {
     "cell_type": "code", 
     "collapsed": true, 
     "input": [
      "errors"
     ], 
     "language": "python", 
     "outputs": [], 
     "prompt_number": 53
    }, 
    {
     "cell_type": "code", 
     "collapsed": true, 
     "input": [
      "fig = figure()", 
      "ax = fig.add_subplot(111)", 
      "loglog(steps, errors, marker='^')", 
      "xlabel('Step size')", 
      "ylabel('Absolute error')", 
      "savefig('pd-variational-order.pdf')"
     ], 
     "language": "python", 
     "outputs": [], 
     "prompt_number": 54
    }, 
    {
     "cell_type": "code", 
     "collapsed": true, 
     "input": [
      "# Find slope of line in loglog plot", 
      "log_h = np.log10(steps)", 
      "log_err = np.log10(errors)"
     ], 
     "language": "python", 
     "outputs": [], 
     "prompt_number": 55
    }, 
    {
     "cell_type": "code", 
     "collapsed": true, 
     "input": [
      "def line(x, intercept, slope):", 
      "    return intercept + slope*x", 
      "", 
      "(intercept, slope), _ = curve_fit(line, log_h, log_err)"
     ], 
     "language": "python", 
     "outputs": [], 
     "prompt_number": 56
    }, 
    {
     "cell_type": "code", 
     "collapsed": true, 
     "input": [
      "slope"
     ], 
     "language": "python", 
     "outputs": [], 
     "prompt_number": 57
    }, 
    {
     "cell_type": "code", 
     "collapsed": true, 
     "input": [
      "intercept"
     ], 
     "language": "python", 
     "outputs": [], 
     "prompt_number": 58
    }, 
    {
     "cell_type": "code", 
     "collapsed": true, 
     "input": [
      "10**(intercept)"
     ], 
     "language": "python", 
     "outputs": [], 
     "prompt_number": 61
    }, 
    {
     "cell_type": "code", 
     "collapsed": true, 
     "input": [], 
     "language": "python", 
     "outputs": [], 
     "prompt_number": "&nbsp;"
    }
   ]
  }
 ]
}