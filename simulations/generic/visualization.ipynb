{
 "metadata": {
  "name": "visualization"
 }, 
 "nbformat": 2, 
 "worksheets": [
  {
   "cells": [
    {
     "cell_type": "code", 
     "collapsed": false, 
     "input": [
      "from mayavi import mlab", 
      "mlab.options.offscreen = True"
     ], 
     "language": "python", 
     "outputs": [], 
     "prompt_number": 1
    }, 
    {
     "cell_type": "code", 
     "collapsed": true, 
     "input": [
      "from hopf.util.matlab_io import load_variables"
     ], 
     "language": "python", 
     "outputs": [], 
     "prompt_number": 2
    }, 
    {
     "cell_type": "code", 
     "collapsed": true, 
     "input": [
      "import numpy.linalg as LA "
     ], 
     "language": "python", 
     "outputs": [], 
     "prompt_number": 3
    }, 
    {
     "cell_type": "code", 
     "collapsed": true, 
     "input": [
      "# Mesh data for sphere", 
      "", 
      "r = 1", 
      "pi = np.pi", 
      "cos = np.cos", 
      "sin = np.sin", 
      "phi, theta = np.mgrid[0:pi:101j, 0:2*pi:101j]", 
      "", 
      "x = r*sin(phi)*cos(theta)", 
      "y = r*sin(phi)*sin(theta)", 
      "z = r*cos(phi)"
     ], 
     "language": "python", 
     "outputs": [], 
     "prompt_number": 4
    }, 
    {
     "cell_type": "code", 
     "collapsed": true, 
     "input": [
      "# Vortex locations", 
      "times, vortices = load_variables('data/generic_sphere_40', ['times', 'vortices'])", 
      "# Gamma, sigma", 
      "gamma, sigma = load_variables('random_initial_conditions40.mat', ['gamma', 'sigma'])"
     ], 
     "language": "python", 
     "outputs": [], 
     "prompt_number": 5
    }, 
    {
     "cell_type": "code", 
     "collapsed": false, 
     "input": [
      "# Rescale vorticity so largest is unity", 
      "gamma_max, gamma_min = max(gamma), min(gamma)", 
      "if gamma_max - gamma_min > 1e-5:", 
      "    gamma = (gamma - gamma_min)/(gamma_max - gamma_min)", 
      "else:", 
      "    gamma /= gamma_max"
     ], 
     "language": "python", 
     "outputs": [], 
     "prompt_number": 6
    }, 
    {
     "cell_type": "code", 
     "collapsed": false, 
     "input": [
      "gamma"
     ], 
     "language": "python", 
     "outputs": [
      {
       "output_type": "pyout", 
       "prompt_number": 7, 
       "text": [
        "array([ 1.,  1.,  1.,  1.,  1.,  1.,  1.,  1.,  1.,  1.,  1.,  1.,  1.,", 
        "        1.,  1.,  1.,  1.,  1.,  1.,  1.,  1.,  1.,  1.,  1.,  1.,  1.,", 
        "        1.,  1.,  1.,  1.,  1.,  1.,  1.,  1.,  1.,  1.,  1.,  1.,  1.,  1.])"
       ]
      }
     ], 
     "prompt_number": 7
    }, 
    {
     "cell_type": "code", 
     "collapsed": false, 
     "input": [
      "def smeared_out_vorticity(x, v, gamma, sigma):", 
      "    ", 
      "    omega = 0", 
      "    for k in xrange(0, v.shape[0]):", 
      "        d = LA.norm(x - v[k, :])", 
      "        omega += gamma[k]*exp(-d**2./sigma**2.)", 
      "        ", 
      "    return omega", 
      "        ", 
      "    ", 
      "    "
     ], 
     "language": "python", 
     "outputs": [], 
     "prompt_number": 8
    }, 
    {
     "cell_type": "code", 
     "collapsed": false, 
     "input": [
      "smeared_out_vorticity(vortices[0, 1, :], vortices[0, :, :].squeeze(), gamma, sigma)"
     ], 
     "language": "python", 
     "outputs": [
      {
       "output_type": "pyout", 
       "prompt_number": 9, 
       "text": [
        "1.1162593166433923"
       ]
      }
     ], 
     "prompt_number": 9
    }, 
    {
     "cell_type": "code", 
     "collapsed": false, 
     "input": [
      "n, m = phi.shape", 
      "s = np.empty((n, m))", 
      "for i in xrange(0, n):", 
      "    for j in xrange(0, m):", 
      "        alpha = phi[i, j]", 
      "        beta = theta[i, j]", 
      "        px = r*sin(alpha)*cos(beta)", 
      "        py = r*sin(alpha)*sin(beta)", 
      "        pz = r*cos(alpha)", 
      "        s[i, j] = smeared_out_vorticity(np.array([px, py, pz]), vortices[0, :, :], gamma, sigma)"
     ], 
     "language": "python", 
     "outputs": [], 
     "prompt_number": 10
    }, 
    {
     "cell_type": "code", 
     "collapsed": false, 
     "input": [
      "s /= s.max()"
     ], 
     "language": "python", 
     "outputs": [], 
     "prompt_number": 11
    }, 
    {
     "cell_type": "code", 
     "collapsed": false, 
     "input": [
      "mlab.figure(1, bgcolor=(1, 1, 1), fgcolor=(0, 0, 0))#, size=(400, 300))", 
      "", 
      "sphere = mlab.mesh(x, y, z, scalars=s, resolution=50, opacity=0.7)", 
      "sphere.actor.property.backface_culling = True", 
      "", 
      "#mlab.move(forward=20)", 
      "", 
      "mlab.savefig('xxxyyy.png')"
     ], 
     "language": "python", 
     "outputs": [], 
     "prompt_number": 12
    }, 
    {
     "cell_type": "code", 
     "collapsed": true, 
     "input": [
      "mlab.figure(1, bgcolor=(1, 1, 1), fgcolor=(0, 0, 0))#, size=(400, 300))", 
      "", 
      "sphere = mlab.mesh(x, y, z, color=(0.67, 0.77, 0.93), resolution=50, opacity=0.7)", 
      "sphere.actor.property.backface_culling = True", 
      "", 
      "mlab.move(forward=20)", 
      "", 
      "c = (.66, .60, .57)", 
      "for n in range(0, vortices.shape[1]):", 
      "    vx, vy, vz = vortices[0, n, :] ", 
      "    mlab.points3d([vx], [vy], [vz], color=c, scale_factor=0.1)", 
      "mlab.show()"
     ], 
     "language": "python", 
     "outputs": [], 
     "prompt_number": 13
    }, 
    {
     "cell_type": "code", 
     "collapsed": true, 
     "input": [
      "phi, theta = np.mgrid[0:pi:101j, 0:2*pi:101j]"
     ], 
     "language": "python", 
     "outputs": [], 
     "prompt_number": 42
    }, 
    {
     "cell_type": "code", 
     "collapsed": true, 
     "input": [
      "from scipy.special import sph_harm"
     ], 
     "language": "python", 
     "outputs": [], 
     "prompt_number": 43
    }, 
    {
     "cell_type": "code", 
     "collapsed": true, 
     "input": [], 
     "language": "python", 
     "outputs": []
    }
   ]
  }
 ]
}