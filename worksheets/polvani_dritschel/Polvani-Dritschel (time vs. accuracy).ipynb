{
 "metadata": {
  "name": "Polvani-Dritschel (time vs. accuracy)"
 }, 
 "nbformat": 2, 
 "worksheets": [
  {
   "cells": [
    {
     "cell_type": "code", 
     "collapsed": true, 
     "input": [
      "from hopf.util.matlab_io import load_variables", 
      "import numpy.linalg as LA"
     ], 
     "language": "python", 
     "outputs": [], 
     "prompt_number": 3
    }, 
    {
     "cell_type": "code", 
     "collapsed": true, 
     "input": [
      "from simulations.plots.figs import set_figure_defaults, small_legend", 
      "from simulations.plots.bw_plots import plot, semilogx, semilogy, loglog", 
      "", 
      "set_figure_defaults(size='medium')"
     ], 
     "language": "python", 
     "outputs": [], 
     "prompt_number": 4
    }, 
    {
     "cell_type": "code", 
     "collapsed": true, 
     "input": [
      "from matplotlib.ticker import MaxNLocator, FormatStrFormatter, ScalarFormatter"
     ], 
     "language": "python", 
     "outputs": [], 
     "prompt_number": 5
    }, 
    {
     "cell_type": "code", 
     "collapsed": true, 
     "input": [
      "sfmt = ScalarFormatter()", 
      "sfmt.set_scientific(True)", 
      "sfmt.set_powerlimits((-2, 4))"
     ], 
     "language": "python", 
     "outputs": [], 
     "prompt_number": 6
    }, 
    {
     "cell_type": "code", 
     "collapsed": true, 
     "input": [
      "# Load frequency", 
      "omega = load_variables('pd_initial_conditions.mat', ['omega'])[0];", 
      "", 
      "# Load initial conditions (for exact solution)", 
      "X0 = load_variables('pd_initial_conditions.mat', ['X0'])[0]"
     ], 
     "language": "python", 
     "outputs": [], 
     "prompt_number": 7
    }, 
    {
     "cell_type": "markdown", 
     "source": [
      "Periodicity of the solutions", 
      "----------------------------"
     ]
    }, 
    {
     "cell_type": "code", 
     "collapsed": false, 
     "input": [
      "# Frequency of the rotations", 
      "omega"
     ], 
     "language": "python", 
     "outputs": [], 
     "prompt_number": 8
    }, 
    {
     "cell_type": "code", 
     "collapsed": false, 
     "input": [
      "# Period of the rotations", 
      "T = 2*pi/omega; T"
     ], 
     "language": "python", 
     "outputs": [], 
     "prompt_number": 9
    }, 
    {
     "cell_type": "code", 
     "collapsed": true, 
     "input": [
      "# Compute exact solution", 
      "x0 = X0[0, :]", 
      "", 
      "sin = np.sin", 
      "cos = np.cos", 
      "", 
      "def exact_solution(t, x0):", 
      "    R = np.array([[cos(omega*t), -sin(omega*t), 0], [sin(omega*t), cos(omega*t), 0], [0, 0, 1]])", 
      "    return np.dot(R, x0)"
     ], 
     "language": "python", 
     "outputs": [], 
     "prompt_number": 10
    }, 
    {
     "cell_type": "markdown", 
     "source": [
      "Time versus accuracy plot", 
      "-------------------------"
     ]
    }, 
    {
     "cell_type": "code", 
     "collapsed": true, 
     "input": [
      "import os", 
      "", 
      "def compute_errors(filename):", 
      "", 
      "    tmp = np.empty(100)", 
      "    errors =  []", 
      "    cpu_times = []", 
      "", 
      "    for n, h in enumerate(logspace(-3, -1, 10)): ", 
      "        f = filename % n", 
      "        if not os.path.exists(f):", 
      "            continue", 
      "        ", 
      "        cpu_time, times, vortices = load_variables(f, ['time', 'times', 'vortices'])", 
      "        x = vortices[:, 0, 0]", 
      "    ", 
      "        for k, t in enumerate(times):", 
      "            tmp[k] = LA.norm(exact_solution(t, x0) - vortices[k, 0, :])", 
      "        ", 
      "        val = max(abs(tmp))", 
      "        cpu_times.append(cpu_time)", 
      "        errors.append(val)", 
      "    ", 
      "    return cpu_times, errors"
     ], 
     "language": "python", 
     "outputs": [], 
     "prompt_number": 11
    }, 
    {
     "cell_type": "code", 
     "collapsed": true, 
     "input": [
      "times_hopf, errors_hopf = compute_errors('data/pd_timed_sphere_%d.mat')", 
      "times_lp, errors_lp = compute_errors('data/pd_timed_lie-poisson_%d.mat')", 
      "times_mp, errors_mp = compute_errors('data/pd_timed_midpoint_%d.mat')"
     ], 
     "language": "python", 
     "outputs": [], 
     "prompt_number": 12
    }, 
    {
     "cell_type": "code", 
     "collapsed": true, 
     "input": [], 
     "language": "python", 
     "outputs": [], 
     "prompt_number": 12
    }, 
    {
     "cell_type": "code", 
     "collapsed": false, 
     "input": [
      "fig = figure()", 
      "ax = fig.add_subplot(111)", 
      "loglog(times_hopf, errors_hopf, marker='^', label='Hopf')", 
      "loglog(times_lp, errors_lp, marker='o', label='Lie-Poisson', linestyle='--')", 
      "loglog(times_mp, errors_mp, marker='*', label='Midpoint', linestyle='-.')", 
      "xlabel('CPU time')", 
      "ylabel('Absolute error')", 
      "small_legend(loc='best')", 
      "savefig('pd-cputime-comparison.pdf')"
     ], 
     "language": "python", 
     "outputs": [], 
     "prompt_number": 13
    }, 
    {
     "cell_type": "code", 
     "collapsed": true, 
     "input": [], 
     "language": "python", 
     "outputs": []
    }
   ]
  }
 ]
}