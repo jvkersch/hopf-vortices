{
 "metadata": {
  "name": "Polvani-Dritschel (mu solution)"
 }, 
 "nbformat": 2, 
 "worksheets": [
  {
   "cells": [
    {
     "cell_type": "code", 
     "collapsed": true, 
     "input": [
      "from hopf.util.matlab_io import load_variables", 
      "import numpy.linalg as LA", 
      "", 
      "from simulations.plots.figs import set_figure_defaults, small_legend", 
      "from simulations.plots.bw_plots import plot, semilogx, semilogy, loglog"
     ], 
     "language": "python", 
     "outputs": [], 
     "prompt_number": 1
    }, 
    {
     "cell_type": "code", 
     "collapsed": true, 
     "input": [
      "from matplotlib.ticker import MaxNLocator, FormatStrFormatter, ScalarFormatter", 
      "", 
      "sfmt = ScalarFormatter()", 
      "sfmt.set_scientific(True)", 
      "sfmt.set_powerlimits((-2, 4))"
     ], 
     "language": "python", 
     "outputs": [], 
     "prompt_number": 2
    }, 
    {
     "cell_type": "markdown", 
     "source": [
      "Load data", 
      "---"
     ]
    }, 
    {
     "cell_type": "code", 
     "collapsed": true, 
     "input": [
      "# Load data (long term simulation)", 
      "times_hopf, vortices_hopf, energies_hopf, moments_hopf = \\", 
      "        load_variables('data/pd_trajectory_2000_sphere.mat', ['times', 'vortices', 'energies', 'moments'])", 
      "times_mu, vortices_mu, energies_mu, moments_mu = \\", 
      "        load_variables('data/pd_trajectory_2000_sphere_mu.mat', ['times', 'vortices', 'energies', 'moments'])"
     ], 
     "language": "python", 
     "outputs": [], 
     "prompt_number": 3
    }, 
    {
     "cell_type": "code", 
     "collapsed": false, 
     "input": [
      "times_mu[-1]"
     ], 
     "language": "python", 
     "outputs": [], 
     "prompt_number": 4
    }, 
    {
     "cell_type": "code", 
     "collapsed": true, 
     "input": [
      "# Load frequency", 
      "omega = load_variables('pd_initial_conditions.mat', ['omega'])[0];", 
      "", 
      "# Load initial conditions (for exact solution)", 
      "X0 = load_variables('pd_initial_conditions.mat', ['X0'])[0]"
     ], 
     "language": "python", 
     "outputs": [], 
     "prompt_number": 5
    }, 
    {
     "cell_type": "markdown", 
     "source": [
      "Comparison of trajectories with exact solution", 
      "---"
     ]
    }, 
    {
     "cell_type": "code", 
     "collapsed": true, 
     "input": [
      "# Compute exact solution", 
      "x0 = X0[0, :]", 
      "", 
      "sin = np.sin", 
      "cos = np.cos", 
      "", 
      "def exact_solution(t, x0):", 
      "    R = np.array([[cos(omega*t), -sin(omega*t), 0], [sin(omega*t), cos(omega*t), 0], [0, 0, 1]])", 
      "    return np.dot(R, x0)"
     ], 
     "language": "python", 
     "outputs": [], 
     "prompt_number": 6
    }, 
    {
     "cell_type": "code", 
     "collapsed": false, 
     "input": [
      "len(times_mu)"
     ], 
     "language": "python", 
     "outputs": [], 
     "prompt_number": 7
    }, 
    {
     "cell_type": "code", 
     "collapsed": true, 
     "input": [
      "def find_first(element, t_array):", 
      "    \"\"\"", 
      "    Find first element in array bigger than a given element.  ", 
      "    Return -1 if no such element is found.", 
      "    \"\"\"", 
      "    for n, t in enumerate(t_array):", 
      "        if t > element:", 
      "            return n", 
      "    return -1"
     ], 
     "language": "python", 
     "outputs": [], 
     "prompt_number": 8
    }, 
    {
     "cell_type": "code", 
     "collapsed": true, 
     "input": [
      "t_begin, t_end = 1900, 2000", 
      "n_hopf = find_first(t_begin, times_hopf)", 
      "n_mu = find_first(t_begin, times_mu)"
     ], 
     "language": "python", 
     "outputs": [], 
     "prompt_number": 9
    }, 
    {
     "cell_type": "code", 
     "collapsed": false, 
     "input": [
      "print n_hopf, n_mu"
     ], 
     "language": "python", 
     "outputs": [], 
     "prompt_number": 10
    }, 
    {
     "cell_type": "code", 
     "collapsed": true, 
     "input": [
      "times_hopf_slice = times_hopf[n_hopf:]", 
      "times_mu_slice = times_mu[n_mu:]", 
      "", 
      "v1_hopf_slice = vortices_hopf[n_hopf:,0,0]", 
      "v1_mu_slice = vortices_mu[n_mu:,0,0]"
     ], 
     "language": "python", 
     "outputs": [], 
     "prompt_number": 11
    }, 
    {
     "cell_type": "code", 
     "collapsed": true, 
     "input": [
      "times_exact_slice = linspace(t_begin, t_end, 100)", 
      "v1_exact_slice = [exact_solution(t, x0)[0] for t in times_exact_slice]"
     ], 
     "language": "python", 
     "outputs": [], 
     "prompt_number": 12
    }, 
    {
     "cell_type": "code", 
     "collapsed": true, 
     "input": [
      "# Make plot", 
      "set_figure_defaults('medium')  # Medium-size figures"
     ], 
     "language": "python", 
     "outputs": [], 
     "prompt_number": 13
    }, 
    {
     "cell_type": "code", 
     "collapsed": false, 
     "input": [
      "clf()", 
      "fig = figure()", 
      "ax = fig.add_subplot(111)", 
      "plot(times_exact_slice, v1_exact_slice, label='Exact')", 
      "plot(times_hopf_slice, v1_hopf_slice, label='Hopf', linestyle='--')", 
      "plot(times_mu_slice, v1_mu_slice, label=r'$\\mu$-Hopf', linestyle='-.')", 
      "xlabel(r'$t$', fontsize=20)", 
      "ylabel('x-component of vortex 1')", 
      "ax.autoscale(axis='x', tight=True)", 
      "# legend(loc='best')", 
      "savefig('pd-comparison-mu.pdf')", 
      "show()"
     ], 
     "language": "python", 
     "outputs": [], 
     "prompt_number": 14
    }, 
    {
     "cell_type": "markdown", 
     "source": [
      "Order computation", 
      "---"
     ]
    }, 
    {
     "cell_type": "code", 
     "collapsed": true, 
     "input": [
      "import os", 
      "", 
      "def compute_errors(filename):", 
      "", 
      "    tmp = np.empty(100)", 
      "    errors =  []", 
      "    steps = []", 
      "", 
      "    for n, h in enumerate(logspace(-3, -1, 10)): ", 
      "        f = filename % n", 
      "        if not os.path.exists(f):", 
      "            continue", 
      "        ", 
      "        times, vortices = load_variables(f, ['times', 'vortices'])", 
      "        x = vortices[:, 0, 0]", 
      "    ", 
      "        for k, t in enumerate(times):", 
      "            tmp[k] = LA.norm(exact_solution(t, x0) - vortices[k, 0, :])", 
      "        ", 
      "        val = max(abs(tmp))", 
      "        steps.append(h)", 
      "        errors.append(val)", 
      "    ", 
      "    return steps, errors"
     ], 
     "language": "python", 
     "outputs": [], 
     "prompt_number": 15
    }, 
    {
     "cell_type": "code", 
     "collapsed": true, 
     "input": [
      "steps_hopf, errors_hopf = compute_errors('data/pd_sphere_order_%d.mat')", 
      "steps_mu, errors_mu = compute_errors('data/pd_lp_order_%d.mat')"
     ], 
     "language": "python", 
     "outputs": [], 
     "prompt_number": 16
    }, 
    {
     "cell_type": "code", 
     "collapsed": false, 
     "input": [
      "steps_hopf"
     ], 
     "language": "python", 
     "outputs": [], 
     "prompt_number": 17
    }, 
    {
     "cell_type": "code", 
     "collapsed": false, 
     "input": [
      "fig = figure()", 
      "ax = fig.add_subplot(111)", 
      "loglog(steps_hopf, errors_hopf, marker='^', label='Hopf')", 
      "loglog(steps_mu, errors_mu, marker='o', label=r'$\\mu$-Hopf', linestyle='--')", 
      "xlabel('Step size')", 
      "ylabel('Absolute error')", 
      "small_legend(loc='best')", 
      "savefig('pd-variational-order-mu.pdf')"
     ], 
     "language": "python", 
     "outputs": [], 
     "prompt_number": 19
    }, 
    {
     "cell_type": "code", 
     "collapsed": true, 
     "input": [], 
     "language": "python", 
     "outputs": []
    }
   ]
  }
 ]
}