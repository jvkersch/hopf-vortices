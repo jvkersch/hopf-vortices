{
 "metadata": {
  "name": "Vortex street simulation results"
 }, 
 "nbformat": 2, 
 "worksheets": [
  {
   "cells": [
    {
     "cell_type": "code", 
     "collapsed": false, 
     "input": [
      "from mayavi import mlab"
     ], 
     "language": "python", 
     "outputs": [], 
     "prompt_number": 1
    }, 
    {
     "cell_type": "code", 
     "collapsed": true, 
     "input": [
      "from hopf.util.matlab_io import load_variables", 
      "import numpy.linalg as LA", 
      "", 
      "from simulations.plots.figs import set_figure_defaults, small_legend", 
      "from simulations.plots.bw_plots import plot, semilogx, semilogy, loglog", 
      "", 
      "set_figure_defaults('medium')"
     ], 
     "language": "python", 
     "outputs": [], 
     "prompt_number": 1
    }, 
    {
     "cell_type": "code", 
     "collapsed": true, 
     "input": [
      "from matplotlib.ticker import MaxNLocator, FormatStrFormatter, ScalarFormatter"
     ], 
     "language": "python", 
     "outputs": [], 
     "prompt_number": 2
    }, 
    {
     "cell_type": "code", 
     "collapsed": true, 
     "input": [
      "sfmt = ScalarFormatter()", 
      "sfmt.set_scientific(True)", 
      "sfmt.set_powerlimits((-2, 4))", 
      "    "
     ], 
     "language": "python", 
     "outputs": [], 
     "prompt_number": 3
    }, 
    {
     "cell_type": "markdown", 
     "source": [
      "Mayavi initial conditions plot", 
      "------------------------------"
     ]
    }, 
    {
     "cell_type": "code", 
     "collapsed": true, 
     "input": [
      "# Load initial conditions (for exact solution)", 
      "X0 = load_variables('svs5_poles.mat', ['X0'])[0]"
     ], 
     "language": "python", 
     "outputs": [], 
     "prompt_number": 4
    }, 
    {
     "cell_type": "code", 
     "collapsed": false, 
     "input": [
      "X0.shape"
     ], 
     "language": "python", 
     "outputs": [], 
     "prompt_number": 5
    }, 
    {
     "cell_type": "code", 
     "collapsed": false, 
     "input": [
      "mlab.figure(1, bgcolor=(1, 1, 1), fgcolor=(0, 0, 0))#, size=(400, 300))", 
      "", 
      "r = 1", 
      "pi = np.pi", 
      "cos = np.cos", 
      "sin = np.sin", 
      "phi, theta = np.mgrid[0:pi:101j, 0:2*pi:101j]", 
      "", 
      "x = r*sin(phi)*cos(theta)", 
      "y = r*sin(phi)*sin(theta)", 
      "z = r*cos(phi)", 
      "", 
      "sphere = mlab.mesh(x, y, z, color=(0.67, 0.77, 0.93), resolution=50, opacity=0.7)", 
      "sphere.actor.property.backface_culling = True", 
      "", 
      "mlab.move(forward=20)", 
      "", 
      "c = (.66, .60, .57)", 
      "for n in range(0, X0.shape[0]):", 
      "    vx, vy, vz = X0[n, :] ", 
      "    mlab.points3d([vx], [vy], [vz], color=c, scale_factor=0.1)", 
      "mlab.show()"
     ], 
     "language": "python", 
     "outputs": [], 
     "prompt_number": 6
    }, 
    {
     "cell_type": "markdown", 
     "source": [
      "Comparison of Hopf integrator with RK4 (short integration times)", 
      "----------------------------------------------------------------", 
      "", 
      "Simulation parameters: $h = 0.1$, $\\sigma = 0.0$, $T = 25$."
     ]
    }, 
    {
     "cell_type": "code", 
     "collapsed": true, 
     "input": [
      "# Load data", 
      "times, vortices, energies_sphere, moments_sphere = \\", 
      "        load_variables('data/svs5_poles_sphere.mat', ['times', 'vortices', 'energies', 'moments'])", 
      "", 
      "energies_rk4, moments_rk4 = load_variables('data/svs5_poles_rk4.mat', ['energies', 'moments'])"
     ], 
     "language": "python", 
     "outputs": [], 
     "prompt_number": 7
    }, 
    {
     "cell_type": "code", 
     "collapsed": true, 
     "input": [
      "# Compute errors", 
      "energy_error_sphere = energies_sphere - energies_sphere[0]", 
      "energy_error_rk4 = energies_rk4 - energies_rk4[0]"
     ], 
     "language": "python", 
     "outputs": [], 
     "prompt_number": 8
    }, 
    {
     "cell_type": "code", 
     "collapsed": false, 
     "input": [
      "# Energy comparison figure", 
      "fig = figure()", 
      "ax = fig.add_subplot(111)", 
      "plot(times, energy_error_sphere, label='Hopf')", 
      "plot(times, energy_error_rk4, label='RK4', linestyle='--')", 
      "ax.yaxis.set_major_formatter(sfmt)", 
      "ax.autoscale(axis='x', tight=True)", 
      "xlabel(r'$t$', fontsize=20)", 
      "ylabel('Energy error')", 
      "small_legend(loc='best')", 
      "savefig('svs5-energy-comparison-short.pdf')", 
      "show()"
     ], 
     "language": "python", 
     "outputs": [], 
     "prompt_number": 9
    }, 
    {
     "cell_type": "code", 
     "collapsed": false, 
     "input": [
      "# Variational energy error", 
      "fig = figure()", 
      "ax = fig.add_subplot(111)", 
      "plot(times, energy_error_sphere)", 
      "xlabel(r'$t$', fontsize=20)", 
      "ylabel('Energy error')", 
      "ax.yaxis.set_major_locator(MaxNLocator(5))", 
      "savefig('svs5-energy-variational-short.pdf')", 
      "show()"
     ], 
     "language": "python", 
     "outputs": [], 
     "prompt_number": 10
    }, 
    {
     "cell_type": "code", 
     "collapsed": true, 
     "input": [
      "# Compute moment errors", 
      "moment_error_sphere = np.zeros(len(times))", 
      "moment_error_rk4  = np.zeros(len(times))", 
      "", 
      "import numpy.linalg as LA", 
      "for k in xrange(0, len(times)):", 
      "    moment_error_sphere[k] = LA.norm(moments_sphere[k, :] - moments_sphere[0, :])", 
      "    moment_error_rk4[k] = LA.norm(moments_rk4[k, :] - moments_rk4[0, :])"
     ], 
     "language": "python", 
     "outputs": [], 
     "prompt_number": 11
    }, 
    {
     "cell_type": "code", 
     "collapsed": false, 
     "input": [
      "# Moment comparison figure", 
      "fig = figure()", 
      "ax = fig.add_subplot(111)", 
      "plot(times, moment_error_sphere, label='Hopf')", 
      "plot(times, moment_error_rk4, label='RK4', linestyle='--')", 
      "ax.yaxis.set_major_formatter(sfmt)", 
      "ylim((-1e-7, 5e-7))", 
      "xlabel(r'$t$', fontsize=20)", 
      "ylabel('Norm of the moment error')", 
      "ax.autoscale(axis='x', tight=True)", 
      "small_legend(loc='upper left')", 
      "savefig('svs5-moment-comparison-short.pdf')", 
      "show()"
     ], 
     "language": "python", 
     "outputs": [], 
     "prompt_number": 12
    }, 
    {
     "cell_type": "markdown", 
     "source": [
      "Comparison of Hopf integrator with RK4 (moderate integration times)", 
      "-------------------------------------------------------------------", 
      "", 
      "Here $h = 0.1$, $\\sigma = 0.25$ and $T = 1000$."
     ]
    }, 
    {
     "cell_type": "code", 
     "collapsed": true, 
     "input": [
      "# Load data ", 
      "times_sphere, vortices, energies_sphere, moments_sphere = \\", 
      "        load_variables('data/svs5_poles_sphere_long_025.mat', ['times', 'vortices', 'energies', 'moments'])", 
      "", 
      "times_rk4, energies_rk4, moments_rk4 = \\", 
      "    load_variables('data/svs5_poles_rk4_long_025.mat', ['times', 'energies', 'moments'])", 
      "    ", 
      "times_lp, energies_lp, moments_lp = \\", 
      "    load_variables('data/svs5_poles_lp_long_025.mat', ['times', 'energies', 'moments'])  ", 
      "   ", 
      "times_mp, energies_mp, moments_mp = \\", 
      "    load_variables('data/svs5_poles_mp_long_025.mat', ['times', 'energies', 'moments'])      "
     ], 
     "language": "python", 
     "outputs": [], 
     "prompt_number": 13
    }, 
    {
     "cell_type": "code", 
     "collapsed": true, 
     "input": [
      "# Compute energy errors", 
      "energy_error_sphere = energies_sphere - energies_sphere[0]", 
      "energy_error_rk4 = energies_rk4 - energies_rk4[0]", 
      "energy_error_lp = energies_lp - energies_lp[0]", 
      "energy_error_mp = energies_mp - energies_mp[0]"
     ], 
     "language": "python", 
     "outputs": [], 
     "prompt_number": 14
    }, 
    {
     "cell_type": "code", 
     "collapsed": false, 
     "input": [
      "# Energy comparison figure", 
      "fig = figure()", 
      "ax = fig.add_subplot(111)", 
      "plot(times_sphere, energy_error_sphere, label='Hopf')", 
      "plot(times_lp, energy_error_lp, label='Lie-Poisson', linestyle='--')", 
      "plot(times_mp, energy_error_mp, label='Midpoint', linestyle='-.')", 
      "plot(times_rk4, energy_error_rk4, label='RK4', linestyle=':')", 
      "ax.yaxis.set_major_formatter(sfmt)", 
      "ax.autoscale(axis='x', tight=True)", 
      "xlabel(r'$t$', fontsize=20)", 
      "ylabel('Energy error')", 
      "small_legend(loc='upper left')", 
      "savefig('svs5-energy-comparison-long.pdf')", 
      "show()"
     ], 
     "language": "python", 
     "outputs": [], 
     "prompt_number": 16
    }, 
    {
     "cell_type": "code", 
     "collapsed": true, 
     "input": [
      "# Compute moment errors", 
      "moment_error_sphere = np.zeros(len(times))", 
      "moment_error_rk4  = np.zeros(len(times))", 
      "moment_error_mp = np.zeros(len(times))", 
      "moment_error_lp = np.zeros(len(times))", 
      "", 
      "import numpy.linalg as LA", 
      "for k in xrange(0, len(times)):", 
      "    moment_error_sphere[k] = LA.norm(moments_sphere[k, :] - moments_sphere[0, :])", 
      "    moment_error_rk4[k] = LA.norm(moments_rk4[k, :] - moments_rk4[0, :])", 
      "    moment_error_mp[k] = LA.norm(moments_mp[k, :] - moments_mp[0, :])", 
      "    moment_error_lp[k] = LA.norm(moments_lp[k, :] - moments_lp[0, :])"
     ], 
     "language": "python", 
     "outputs": [], 
     "prompt_number": 17
    }, 
    {
     "cell_type": "code", 
     "collapsed": false, 
     "input": [
      "# Moment comparison figure", 
      "fig = figure()", 
      "ax = fig.add_subplot(111)", 
      "plot(times_sphere, moment_error_sphere, label='Hopf')", 
      "plot(times_lp, moment_error_lp, label='Lie-Poisson', linestyle='--')", 
      "plot(times_mp, moment_error_mp, label='Midpoint', linestyle='-.')", 
      "plot(times_rk4, moment_error_rk4, label='RK4', linestyle=':')", 
      "ax.yaxis.set_major_formatter(sfmt)", 
      "ax.autoscale(axis='x', tight=True)", 
      "xlabel(r'$t$', fontsize=20)", 
      "ylabel('Norm of the moment error')", 
      "ylim((-.2e-2, 1.2e-2))", 
      "small_legend(loc='upper left')", 
      "savefig('svs5-moment-comparison-long.pdf')", 
      "show()"
     ], 
     "language": "python", 
     "outputs": [], 
     "prompt_number": 19
    }, 
    {
     "cell_type": "code", 
     "collapsed": true, 
     "input": [
      " "
     ], 
     "language": "python", 
     "outputs": [], 
     "prompt_number": 27
    }, 
    {
     "cell_type": "markdown", 
     "source": []
    }
   ]
  }
 ]
}