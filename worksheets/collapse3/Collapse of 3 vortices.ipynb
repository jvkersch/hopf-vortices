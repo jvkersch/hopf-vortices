{
 "metadata": {
  "name": "Collapse of 3 vortices"
 }, 
 "nbformat": 2, 
 "worksheets": [
  {
   "cells": [
    {
     "cell_type": "code", 
     "collapsed": false, 
     "input": [
      "from mayavi import mlab"
     ], 
     "language": "python", 
     "outputs": [], 
     "prompt_number": 1
    }, 
    {
     "cell_type": "code", 
     "collapsed": true, 
     "input": [
      "from hopf.util.matlab_io import load_variables", 
      "import numpy.linalg as LA", 
      "", 
      "from simulations.plots.figs import set_figure_defaults, small_legend", 
      "from simulations.plots.bw_plots import plot, semilogx, semilogy, loglog", 
      "", 
      "set_figure_defaults('medium')"
     ], 
     "language": "python", 
     "outputs": [], 
     "prompt_number": 1
    }, 
    {
     "cell_type": "code", 
     "collapsed": true, 
     "input": [
      "from matplotlib.ticker import MaxNLocator, FormatStrFormatter, ScalarFormatter"
     ], 
     "language": "python", 
     "outputs": [], 
     "prompt_number": 2
    }, 
    {
     "cell_type": "code", 
     "collapsed": true, 
     "input": [
      "sfmt = ScalarFormatter()", 
      "sfmt.set_scientific(True)", 
      "sfmt.set_powerlimits((-2, 4))"
     ], 
     "language": "python", 
     "outputs": [], 
     "prompt_number": 3
    }, 
    {
     "cell_type": "markdown", 
     "source": [
      "Vortex trajectories", 
      "-------------------"
     ]
    }, 
    {
     "cell_type": "code", 
     "collapsed": true, 
     "input": [
      "times, vortices = load_variables('data/collapse3_sphere_sigma10_hi_sim.mat', ['times', 'vortices'])"
     ], 
     "language": "python", 
     "outputs": [], 
     "prompt_number": 4
    }, 
    {
     "cell_type": "code", 
     "collapsed": false, 
     "input": [
      "vortices.shape"
     ], 
     "language": "python", 
     "outputs": [], 
     "prompt_number": 5
    }, 
    {
     "cell_type": "code", 
     "collapsed": false, 
     "input": [
      "times.shape"
     ], 
     "language": "python", 
     "outputs": [], 
     "prompt_number": 6
    }, 
    {
     "cell_type": "code", 
     "collapsed": false, 
     "input": [
      "mlab.figure(1, bgcolor=(1, 1, 1), fgcolor=(0, 0, 0))#, size=(400, 300))", 
      "mlab.clf()", 
      "", 
      "r = 1.0", 
      "pi = np.pi", 
      "cos = np.cos", 
      "sin = np.sin", 
      "phi, theta = np.mgrid[0:pi:101j, 0:2*pi:101j]", 
      "", 
      "x = r*sin(phi)*cos(theta)", 
      "y = r*sin(phi)*sin(theta)", 
      "z = r*cos(phi)", 
      "", 
      "sphere = mlab.mesh(x, y, z, color=(0.67, 0.77, 0.93), resolution=50, opacity=0.7)", 
      "sphere.actor.property.backface_culling = True", 
      "", 
      "t_range = 500", 
      "c = [(.97, .46, .17), (.85, .86, .55), (.66, .60, .57)] # Autumn colors", 
      "for n in range(0, 3):", 
      "    v1 = vortices[0:t_range, n, 0] ", 
      "    v2 = vortices[0:t_range, n, 1]", 
      "    v3 = vortices[0:t_range, n, 2] + (3-n)*1e-2", 
      "    mlab.plot3d(v1, v2, v3, color=c[n], tube_radius=.01)", 
      "", 
      "mlab.show()"
     ], 
     "language": "python", 
     "outputs": [], 
     "prompt_number": 8
    }, 
    {
     "cell_type": "markdown", 
     "source": [
      "Comparison of Hopf integrator with RK4 (short integration times)", 
      "-------------------------------------------------------------------", 
      "", 
      "Here $h = 0.1$, $\\sigma = 0.25$ and $T = 1000$."
     ]
    }, 
    {
     "cell_type": "code", 
     "collapsed": true, 
     "input": [
      "# Load data ", 
      "times, vortices, energies_sphere, moments_sphere = \\", 
      "        load_variables('data/collapse3_sphere_sigma10_sim.mat', ['times', 'vortices', 'energies', 'moments'])", 
      "times, vortices, energies_rk4, moments_rk4 = \\", 
      "        load_variables('data/collapse3_rk4_sigma10_sim.mat', ['times', 'vortices', 'energies', 'moments'])", 
      "times, vortices, energies_lp, moments_lp = \\", 
      "        load_variables('data/collapse3_lp_sigma10_sim.mat', ['times', 'vortices', 'energies', 'moments'])", 
      "times, vortices, energies_mp, moments_mp = \\", 
      "        load_variables('data/collapse3_mp_sigma10_sim.mat', ['times', 'vortices', 'energies', 'moments'])"
     ], 
     "language": "python", 
     "outputs": [], 
     "prompt_number": 7
    }, 
    {
     "cell_type": "code", 
     "collapsed": true, 
     "input": [
      "# Compute energy errors", 
      "energy_error_sphere = energies_sphere - energies_sphere[0]", 
      "energy_error_rk4 = energies_rk4 - energies_rk4[0]", 
      "energy_error_lp = energies_lp - energies_lp[0]", 
      "energy_error_mp = energies_mp - energies_mp[0]"
     ], 
     "language": "python", 
     "outputs": [], 
     "prompt_number": 8
    }, 
    {
     "cell_type": "code", 
     "collapsed": false, 
     "input": [
      "# Energy comparison figure", 
      "fig = figure()", 
      "ax = fig.add_subplot(111)", 
      "plot(times, energy_error_sphere, label='Hopf')", 
      "plot(times, energy_error_lp, label='Lie-Poisson', linestyle='--')", 
      "plot(times, energy_error_mp, label='Midpoint', linestyle='-.')", 
      "plot(times, energy_error_rk4, label='RK4', linestyle=':', color='k')", 
      "ax.yaxis.set_major_formatter(sfmt)", 
      "ax.autoscale(axis='x', tight=True)", 
      "ax.yaxis.set_major_locator(MaxNLocator(6))", 
      "xlabel(r'$t$', fontsize=20)", 
      "ylabel('Energy error')", 
      "small_legend(loc='upper left')", 
      "savefig('collapse3-energy-comparison-short.pdf')", 
      "show()"
     ], 
     "language": "python", 
     "outputs": [], 
     "prompt_number": 9
    }, 
    {
     "cell_type": "code", 
     "collapsed": true, 
     "input": [
      "# Compute moment errors", 
      "moment_error_sphere = np.zeros(len(times))", 
      "moment_error_rk4  = np.zeros(len(times))", 
      "moment_error_lp  = np.zeros(len(times))", 
      "moment_error_mp  = np.zeros(len(times))", 
      "", 
      "import numpy.linalg as LA", 
      "for k in xrange(0, len(times)):", 
      "    moment_error_sphere[k] = LA.norm(moments_sphere[k, :] - moments_sphere[0, :])", 
      "    moment_error_rk4[k] = LA.norm(moments_rk4[k, :] - moments_rk4[0, :])", 
      "    moment_error_mp[k] = LA.norm(moments_mp[k, :] - moments_mp[0, :])", 
      "    moment_error_lp[k] = LA.norm(moments_lp[k, :] - moments_lp[0, :])"
     ], 
     "language": "python", 
     "outputs": [], 
     "prompt_number": 10
    }, 
    {
     "cell_type": "code", 
     "collapsed": false, 
     "input": [
      "# Moment comparison figure", 
      "fig = figure()", 
      "ax = fig.add_subplot(111)", 
      "plot(times, moment_error_sphere, label='Hopf')", 
      "plot(times, moment_error_lp, label='Lie-Poisson', linestyle='--')", 
      "plot(times, moment_error_mp, label='Midpoint', linestyle='-.')", 
      "plot(times, moment_error_rk4, label='RK4', linestyle=':', color='k')", 
      "ax.yaxis.set_major_formatter(sfmt)", 
      "ax.autoscale(axis='x', tight=True)", 
      "xlabel(r'$t$', fontsize=20)", 
      "ylabel('Norm of the moment error')", 
      "#ylim((-0.5e-4, 3e-4))", 
      "small_legend(loc='best')", 
      "savefig('collapse3-moment-comparison-short.pdf')", 
      "show()"
     ], 
     "language": "python", 
     "outputs": [], 
     "prompt_number": 12
    }, 
    {
     "cell_type": "markdown", 
     "source": [
      "Comparison between Hopf and RK4 (long integration times)", 
      "--------------------------------------------------------"
     ]
    }, 
    {
     "cell_type": "code", 
     "collapsed": true, 
     "input": [
      "# Load data ", 
      "times_sphere, vortices, energies_sphere, moments_sphere = \\", 
      "        load_variables('data/collapse3_sphere_sigma10_sim_long.mat', ['times', 'vortices', 'energies', 'moments'])", 
      "times_rk4, vortices, energies_rk4, moments_rk4 = \\", 
      "        load_variables('data/collapse3_rk4_sigma10_sim_long.mat', ['times', 'vortices', 'energies', 'moments'])", 
      "times_lp, vortices, energies_lp, moments_lp = \\", 
      "        load_variables('data/collapse3_lp_sigma10_sim_long.mat', ['times', 'vortices', 'energies', 'moments'])", 
      "times_mp, vortices, energies_mp, moments_mp = \\", 
      "        load_variables('data/collapse3_mp_sigma10_sim_long.mat', ['times', 'vortices', 'energies', 'moments'])    "
     ], 
     "language": "python", 
     "outputs": [], 
     "prompt_number": 16
    }, 
    {
     "cell_type": "code", 
     "collapsed": true, 
     "input": [
      "# Compute energy errors", 
      "energy_error_sphere = energies_sphere - energies_sphere[0]", 
      "energy_error_rk4 = energies_rk4 - energies_rk4[0]", 
      "energy_error_lp = energies_lp - energies_lp[0]", 
      "energy_error_mp = energies_mp - energies_mp[0]"
     ], 
     "language": "python", 
     "outputs": [], 
     "prompt_number": 17
    }, 
    {
     "cell_type": "code", 
     "collapsed": false, 
     "input": [
      "# Energy comparison figure", 
      "fig = figure()", 
      "ax = fig.add_subplot(111)", 
      "plot(times_sphere, energy_error_sphere, label='Hopf', linestyle='-')", 
      "plot(times_lp, energy_error_lp, label='Lie-Poisson', linestyle='--')", 
      "plot(times_mp, energy_error_mp, label='Midpoint', linestyle='-.')", 
      "plot(times_rk4, energy_error_rk4, label='RK4', linestyle=':', color='k')", 
      "ax.yaxis.set_major_formatter(sfmt)", 
      "ax.yaxis.set_major_locator(MaxNLocator(6))", 
      "ax.autoscale(axis='x', tight=True)", 
      "xlabel(r'$t$', fontsize=20)", 
      "ylabel('Energy error')", 
      "small_legend(loc='best')", 
      "savefig('collapse3-energy-comparison-long.pdf')", 
      "show()"
     ], 
     "language": "python", 
     "outputs": [], 
     "prompt_number": 19
    }, 
    {
     "cell_type": "code", 
     "collapsed": true, 
     "input": [
      "# Compute moment errors", 
      "moment_error_sphere = np.zeros(len(times_sphere))", 
      "moment_error_rk4  = np.zeros(len(times_rk4))", 
      "moment_error_lp  = np.zeros(len(times_lp))", 
      "moment_error_mp  = np.zeros(len(times_mp))", 
      "", 
      "import numpy.linalg as LA", 
      "for k in xrange(0, len(times_sphere)):", 
      "    moment_error_sphere[k] = LA.norm(moments_sphere[k, :] - moments_sphere[0, :])", 
      "    moment_error_rk4[k] = LA.norm(moments_rk4[k, :] - moments_rk4[0, :])", 
      "    moment_error_mp[k] = LA.norm(moments_mp[k, :] - moments_mp[0, :])", 
      "    moment_error_lp[k] = LA.norm(moments_lp[k, :] - moments_lp[0, :])"
     ], 
     "language": "python", 
     "outputs": [], 
     "prompt_number": 20
    }, 
    {
     "cell_type": "code", 
     "collapsed": false, 
     "input": [
      "# Moment comparison figure", 
      "fig = figure()", 
      "ax = fig.add_subplot(111)", 
      "plot(times_sphere, moment_error_sphere, label='Hopf')", 
      "plot(times_lp, moment_error_lp, label='Lie-Poisson', linestyle='--')", 
      "plot(times_mp, moment_error_mp, label='Midpoint', linestyle='-.')", 
      "plot(times_rk4, moment_error_rk4, label='RK4', linestyle=':', color='k')", 
      "ax.yaxis.set_major_formatter(sfmt)", 
      "ax.autoscale(axis='x', tight=True)", 
      "xlabel(r'$t$', fontsize=20)", 
      "ylabel('Norm of the moment error')", 
      "ylim((-0.5e-4, 3e-4))", 
      "small_legend(loc='best')", 
      "savefig('collapse3-moment-comparison-long.pdf')", 
      "show()"
     ], 
     "language": "python", 
     "outputs": [], 
     "prompt_number": 21
    }, 
    {
     "cell_type": "code", 
     "collapsed": false, 
     "input": [
      "mlab.figure(1, bgcolor=(1, 1, 1), fgcolor=(0, 0, 0))#, size=(400, 300))", 
      "mlab.clf()", 
      "", 
      "r = 1.0", 
      "pi = np.pi", 
      "cos = np.cos", 
      "sin = np.sin", 
      "phi, theta = np.mgrid[0:pi:101j, 0:2*pi:101j]", 
      "", 
      "x = r*sin(phi)*cos(theta)", 
      "y = r*sin(phi)*sin(theta)", 
      "z = r*cos(phi)", 
      "", 
      "sphere = mlab.mesh(x, y, z, color=(0.67, 0.77, 0.93), resolution=50, opacity=0.7)", 
      "sphere.actor.property.backface_culling = True", 
      "", 
      "tmin, tmax = 0, 300", 
      "c = [(.97, .46, .17), (.85, .86, .55), (.66, .60, .57)] # Autumn colors", 
      "for n in range(0, 3):", 
      "    v1 = vortices[tmin:tmax, n, 0] ", 
      "    v2 = vortices[tmin:tmax, n, 1]", 
      "    v3 = vortices[tmin:tmax, n, 2] + (3-n)*1e-2", 
      "    mlab.plot3d(v1, v2, v3, color=c[n], tube_radius=.01)", 
      "", 
      "mlab.show()"
     ], 
     "language": "python", 
     "outputs": [], 
     "prompt_number": 22
    }, 
    {
     "cell_type": "code", 
     "collapsed": true, 
     "input": [], 
     "language": "python", 
     "outputs": [], 
     "prompt_number": "&nbsp;"
    }
   ]
  }
 ]
}